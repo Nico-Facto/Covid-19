{
 "cells": [
  {
   "cell_type": "code",
   "execution_count": 1,
   "metadata": {},
   "outputs": [
    {
     "data": {
      "application/javascript": [
       "IPython.notebook.set_autosave_interval(0)"
      ]
     },
     "metadata": {},
     "output_type": "display_data"
    },
    {
     "name": "stdout",
     "output_type": "stream",
     "text": [
      "Autosave disabled\n",
      "Local Sec Env loaded\n"
     ]
    }
   ],
   "source": [
    "%autosave 0\n",
    "import numpy as np\n",
    "import pandas as pd\n",
    "\n",
    "import statsmodels\n",
    "from statsmodels.tsa.seasonal import seasonal_decompose\n",
    "from statsmodels.tsa.stattools import adfuller\n",
    "from statsmodels.graphics.tsaplots import plot_acf, plot_pacf\n",
    "from statsmodels.tsa.arima.model import ARIMA\n",
    "\n",
    "import seaborn as sns\n",
    "import matplotlib.pyplot as plt\n",
    "import plotly.graph_objs as go\n",
    "import plotly.express as px\n",
    "\n",
    "from sklearn.pipeline import Pipeline\n",
    "from sklearn.preprocessing import StandardScaler, MinMaxScaler\n",
    "from sklearn.model_selection import GridSearchCV\n",
    "from sklearn.metrics import mean_squared_error as MSE\n",
    "from sklearn.metrics import mean_absolute_error as MAE\n",
    "\n",
    "from tensorflow.keras.models import Sequential\n",
    "from tensorflow.keras.layers import Dense, LSTM, Dropout\n",
    "from tensorflow.keras.wrappers.scikit_learn import KerasRegressor\n",
    "\n",
    "from datetime import date, timedelta\n",
    "\n",
    "from source_code.SqlCo import Sqldd"
   ]
  },
  {
   "cell_type": "markdown",
   "metadata": {},
   "source": [
    "# Init_var"
   ]
  },
  {
   "cell_type": "code",
   "execution_count": 23,
   "metadata": {},
   "outputs": [],
   "source": [
    "## Init global var/ simulate input from app in prod (not for periode)\n",
    "country = 'France'\n",
    "subject = 'total_deaths'\n",
    "periode = 3\n",
    "test_size = 3"
   ]
  },
  {
   "cell_type": "markdown",
   "metadata": {},
   "source": [
    "# Input "
   ]
  },
  {
   "cell_type": "code",
   "execution_count": 24,
   "metadata": {},
   "outputs": [],
   "source": [
    "tip = Sqldd()\n",
    "cnx, cursor = tip.get_bdd_co()\n",
    "df = pd.read_sql(f\"SELECT * FROM cov_baseline;\", con=cnx)"
   ]
  },
  {
   "cell_type": "code",
   "execution_count": 25,
   "metadata": {},
   "outputs": [
    {
     "data": {
      "text/plain": [
       "Index(['id', 'iso_code', 'continent', 'location', 'date', 'total_cases',\n",
       "       'new_cases', 'new_cases_smoothed', 'total_deaths', 'new_deaths',\n",
       "       'new_deaths_smoothed', 'total_cases_per_million',\n",
       "       'new_cases_per_million', 'new_cases_smoothed_per_million',\n",
       "       'total_deaths_per_million', 'new_deaths_per_million',\n",
       "       'new_deaths_smoothed_per_million', 'new_tests', 'total_tests',\n",
       "       'total_tests_per_thousand', 'new_tests_per_thousand',\n",
       "       'new_tests_smoothed', 'new_tests_smoothed_per_thousand',\n",
       "       'tests_per_case', 'positive_rate', 'tests_units', 'stringency_index',\n",
       "       'population', 'population_density', 'median_age', 'aged_65_older',\n",
       "       'aged_70_older', 'gdp_per_capita', 'extreme_poverty',\n",
       "       'cardiovasc_death_rate', 'diabetes_prevalence', 'female_smokers',\n",
       "       'male_smokers', 'handwashing_facilities', 'hospital_beds_per_thousand',\n",
       "       'life_expectancy', 'human_development_index'],\n",
       "      dtype='object')"
      ]
     },
     "execution_count": 25,
     "metadata": {},
     "output_type": "execute_result"
    }
   ],
   "source": [
    "df.columns"
   ]
  },
  {
   "cell_type": "code",
   "execution_count": 26,
   "metadata": {},
   "outputs": [],
   "source": [
    "df = df[df['location'].isin([f\"{country}\"])] \n",
    "df = df.reset_index()\n",
    "data_see = df[[f\"{subject}\"]]"
   ]
  },
  {
   "cell_type": "code",
   "execution_count": 27,
   "metadata": {},
   "outputs": [],
   "source": [
    "def massBalance():\n",
    "    thisPlot = px.line(x=df[\"date\"], y=data_see)\n",
    "    thisPlot.update_layout(title=f\"{country}\",\n",
    "                           xaxis_title=\"Mois\",\n",
    "                           yaxis_title=\"Volume\",\n",
    "                           font=dict(family=\"Courier New, monospace\",size=18, color=\"#78281F\"))\n",
    "    thisPlot.show()"
   ]
  },
  {
   "cell_type": "code",
   "execution_count": 28,
   "metadata": {},
   "outputs": [
    {
     "data": {
      "application/vnd.plotly.v1+json": {
       "config": {
        "plotlyServerURL": "https://plot.ly"
       },
       "data": [
        {
         "hoverlabel": {
          "namelength": 0
         },
         "hovertemplate": "x=%{x}<br>y=%{y}",
         "legendgroup": "",
         "line": {
          "color": "#636efa",
          "dash": "solid"
         },
         "mode": "lines",
         "name": "",
         "showlegend": false,
         "type": "scatter",
         "x": [
          "2019-12-31",
          "2020-01-01",
          "2020-01-02",
          "2020-01-03",
          "2020-01-04",
          "2020-01-05",
          "2020-01-06",
          "2020-01-07",
          "2020-01-08",
          "2020-01-09",
          "2020-01-10",
          "2020-01-11",
          "2020-01-12",
          "2020-01-13",
          "2020-01-14",
          "2020-01-15",
          "2020-01-16",
          "2020-01-17",
          "2020-01-18",
          "2020-01-19",
          "2020-01-20",
          "2020-01-21",
          "2020-01-22",
          "2020-01-23",
          "2020-01-24",
          "2020-01-25",
          "2020-01-26",
          "2020-01-27",
          "2020-01-28",
          "2020-01-29",
          "2020-01-30",
          "2020-01-31",
          "2020-02-01",
          "2020-02-02",
          "2020-02-03",
          "2020-02-04",
          "2020-02-05",
          "2020-02-06",
          "2020-02-07",
          "2020-02-08",
          "2020-02-09",
          "2020-02-10",
          "2020-02-11",
          "2020-02-12",
          "2020-02-13",
          "2020-02-14",
          "2020-02-15",
          "2020-02-16",
          "2020-02-17",
          "2020-02-18",
          "2020-02-19",
          "2020-02-20",
          "2020-02-21",
          "2020-02-22",
          "2020-02-23",
          "2020-02-24",
          "2020-02-25",
          "2020-02-26",
          "2020-02-27",
          "2020-02-28",
          "2020-02-29",
          "2020-03-01",
          "2020-03-02",
          "2020-03-03",
          "2020-03-04",
          "2020-03-05",
          "2020-03-06",
          "2020-03-07",
          "2020-03-08",
          "2020-03-09",
          "2020-03-10",
          "2020-03-11",
          "2020-03-12",
          "2020-03-13",
          "2020-03-14",
          "2020-03-15",
          "2020-03-16",
          "2020-03-17",
          "2020-03-18",
          "2020-03-19",
          "2020-03-20",
          "2020-03-21",
          "2020-03-22",
          "2020-03-23",
          "2020-03-24",
          "2020-03-25",
          "2020-03-26",
          "2020-03-27",
          "2020-03-28",
          "2020-03-29",
          "2020-03-30",
          "2020-03-31",
          "2020-04-01",
          "2020-04-02",
          "2020-04-03",
          "2020-04-04",
          "2020-04-05",
          "2020-04-06",
          "2020-04-07",
          "2020-04-08",
          "2020-04-09",
          "2020-04-10",
          "2020-04-11",
          "2020-04-12",
          "2020-04-13",
          "2020-04-14",
          "2020-04-15",
          "2020-04-16",
          "2020-04-17",
          "2020-04-18",
          "2020-04-19",
          "2020-04-20",
          "2020-04-21",
          "2020-04-22",
          "2020-04-23",
          "2020-04-24",
          "2020-04-25",
          "2020-04-26",
          "2020-04-27",
          "2020-04-28",
          "2020-04-29",
          "2020-04-30",
          "2020-05-01",
          "2020-05-02",
          "2020-05-03",
          "2020-05-04",
          "2020-05-05",
          "2020-05-06",
          "2020-05-07",
          "2020-05-08",
          "2020-05-09",
          "2020-05-10",
          "2020-05-11",
          "2020-05-12",
          "2020-05-13",
          "2020-05-14",
          "2020-05-15",
          "2020-05-16",
          "2020-05-17",
          "2020-05-18",
          "2020-05-19",
          "2020-05-20",
          "2020-05-21",
          "2020-05-22",
          "2020-05-23",
          "2020-05-24",
          "2020-05-25",
          "2020-05-26",
          "2020-05-27",
          "2020-05-28",
          "2020-05-29",
          "2020-05-30",
          "2020-05-31",
          "2020-06-01",
          "2020-06-02",
          "2020-06-03",
          "2020-06-04",
          "2020-06-05",
          "2020-06-06",
          "2020-06-07",
          "2020-06-08",
          "2020-06-09",
          "2020-06-10",
          "2020-06-11",
          "2020-06-12",
          "2020-06-13",
          "2020-06-14",
          "2020-06-15",
          "2020-06-16",
          "2020-06-17",
          "2020-06-18",
          "2020-06-19",
          "2020-06-20",
          "2020-06-21",
          "2020-06-22",
          "2020-06-23",
          "2020-06-24",
          "2020-06-25",
          "2020-06-26",
          "2020-06-27",
          "2020-06-28",
          "2020-06-29",
          "2020-06-30",
          "2020-07-01",
          "2020-07-02",
          "2020-07-03",
          "2020-07-04",
          "2020-07-05",
          "2020-07-06",
          "2020-07-07",
          "2020-07-08",
          "2020-07-09",
          "2020-07-10",
          "2020-07-11",
          "2020-07-12",
          "2020-07-13",
          "2020-07-14",
          "2020-07-15",
          "2020-07-16",
          "2020-07-17",
          "2020-07-18",
          "2020-07-19",
          "2020-07-20",
          "2020-07-21",
          "2020-07-22",
          "2020-07-23",
          "2020-07-24",
          "2020-07-25",
          "2020-07-26",
          "2020-07-27",
          "2020-07-28",
          "2020-07-29",
          "2020-07-30",
          "2020-07-31",
          "2020-08-01",
          "2020-08-02",
          "2020-08-03",
          "2020-08-04",
          "2020-08-05",
          "2020-08-06",
          "2020-08-07",
          "2020-08-08",
          "2020-08-09",
          "2020-08-10",
          "2020-08-11",
          "2020-08-12",
          "2020-08-13",
          "2020-08-14",
          "2020-08-15",
          "2020-08-16",
          "2020-08-17",
          "2020-08-18",
          "2020-08-19",
          "2020-08-20",
          "2020-08-21",
          "2020-08-22",
          "2020-08-23",
          "2020-08-24",
          "2020-08-25",
          "2020-08-26",
          "2020-08-27",
          "2020-08-28",
          "2020-08-29",
          "2020-08-30",
          "2020-08-31",
          "2020-09-01",
          "2020-09-02",
          "2020-09-03",
          "2020-09-04",
          "2020-09-05",
          "2020-09-06",
          "2020-09-07",
          "2020-09-08",
          "2020-09-09",
          "2020-09-10",
          "2020-09-11",
          "2020-09-12",
          "2020-09-13",
          "2020-09-14",
          "2020-09-15",
          "2020-09-16",
          "2020-09-17",
          "2020-09-18",
          "2020-09-19",
          "2020-09-20",
          "2020-09-21",
          "2020-09-22",
          "2020-09-23",
          "2020-09-24",
          "2020-09-25",
          "2020-09-26",
          "2020-09-27",
          "2020-09-28",
          "2020-09-29",
          "2020-09-30",
          "2020-10-01",
          "2020-10-02",
          "2020-10-03",
          "2020-10-04",
          "2020-10-05",
          "2020-10-06",
          "2020-10-07",
          "2020-10-08",
          "2020-10-09",
          "2020-10-10",
          "2020-10-11",
          "2020-10-12",
          "2020-10-13",
          "2020-10-14",
          "2020-10-15",
          "2020-10-16",
          "2020-10-17",
          "2020-10-18",
          "2020-10-19",
          "2020-10-20",
          "2020-10-21",
          "2020-10-22",
          "2020-10-23",
          "2020-10-24",
          "2020-10-25",
          "2020-10-26",
          "2020-10-27",
          "2020-10-28",
          "2020-10-29",
          "2020-10-30",
          "2020-10-31",
          "2020-11-01",
          "2020-11-02",
          "2020-11-03"
         ],
         "xaxis": "x",
         "y": [
          0,
          0,
          0,
          0,
          0,
          0,
          0,
          0,
          0,
          0,
          0,
          0,
          0,
          0,
          0,
          0,
          0,
          0,
          0,
          0,
          0,
          0,
          0,
          0,
          0,
          0,
          0,
          0,
          0,
          0,
          0,
          0,
          0,
          0,
          0,
          0,
          0,
          0,
          0,
          0,
          0,
          0,
          0,
          0,
          0,
          0,
          1,
          1,
          1,
          1,
          1,
          1,
          1,
          1,
          1,
          1,
          1,
          1,
          2,
          2,
          2,
          2,
          2,
          3,
          4,
          4,
          7,
          9,
          10,
          19,
          30,
          33,
          48,
          61,
          79,
          91,
          127,
          148,
          175,
          244,
          372,
          450,
          562,
          674,
          860,
          1100,
          1331,
          1696,
          1995,
          2314,
          2606,
          3024,
          3523,
          4032,
          4503,
          6507,
          7560,
          8078,
          8911,
          10328,
          10869,
          12210,
          13197,
          13832,
          14393,
          14967,
          15729,
          17167,
          17920,
          18681,
          19323,
          19718,
          20265,
          20796,
          21340,
          21856,
          22245,
          22614,
          22856,
          23293,
          23660,
          24087,
          24376,
          24594,
          24760,
          24895,
          25201,
          25531,
          25809,
          25987,
          26230,
          26310,
          26380,
          26643,
          26991,
          27074,
          27425,
          27555,
          27643,
          27711,
          27897,
          28022,
          28132,
          28215,
          28289,
          28332,
          28367,
          28432,
          28530,
          28596,
          28662,
          28714,
          28771,
          28802,
          28833,
          28940,
          29021,
          29065,
          29111,
          29142,
          29155,
          29209,
          29296,
          29319,
          29346,
          29374,
          29398,
          29407,
          29436,
          29547,
          29575,
          29603,
          29617,
          29633,
          29640,
          29663,
          29720,
          29731,
          29752,
          29778,
          29778,
          29778,
          29813,
          29843,
          29861,
          29875,
          29893,
          29893,
          29893,
          29920,
          29933,
          29965,
          29979,
          30004,
          30004,
          30004,
          30029,
          30029,
          30120,
          30138,
          30152,
          30152,
          30152,
          30165,
          30165,
          30172,
          30182,
          30192,
          30192,
          30192,
          30209,
          30223,
          30238,
          30254,
          30265,
          30265,
          30265,
          30294,
          30296,
          30305,
          30312,
          30324,
          30324,
          30324,
          30340,
          30354,
          30371,
          30388,
          30406,
          30409,
          30410,
          30429,
          30451,
          30468,
          30480,
          30503,
          30512,
          30513,
          30528,
          30544,
          30544,
          30576,
          30596,
          30602,
          30606,
          30635,
          30661,
          30686,
          30686,
          30686,
          30698,
          30701,
          30726,
          30764,
          30794,
          30813,
          30893,
          30910,
          30916,
          30950,
          30999,
          31045,
          31095,
          31249,
          31274,
          31285,
          31338,
          31416,
          31459,
          31511,
          31661,
          31700,
          31727,
          31808,
          31893,
          31956,
          32019,
          32155,
          32198,
          32230,
          32299,
          32365,
          32445,
          32521,
          32630,
          32684,
          32730,
          32825,
          32933,
          33037,
          33125,
          33303,
          33392,
          33477,
          33623,
          33885,
          34048,
          34210,
          34508,
          34645,
          34761,
          35018,
          35541,
          35785,
          36020,
          36565,
          36788,
          37019,
          37435
         ],
         "yaxis": "y"
        }
       ],
       "layout": {
        "font": {
         "color": "#78281F",
         "family": "Courier New, monospace",
         "size": 18
        },
        "legend": {
         "tracegroupgap": 0
        },
        "margin": {
         "t": 60
        },
        "template": {
         "data": {
          "bar": [
           {
            "error_x": {
             "color": "#2a3f5f"
            },
            "error_y": {
             "color": "#2a3f5f"
            },
            "marker": {
             "line": {
              "color": "#E5ECF6",
              "width": 0.5
             }
            },
            "type": "bar"
           }
          ],
          "barpolar": [
           {
            "marker": {
             "line": {
              "color": "#E5ECF6",
              "width": 0.5
             }
            },
            "type": "barpolar"
           }
          ],
          "carpet": [
           {
            "aaxis": {
             "endlinecolor": "#2a3f5f",
             "gridcolor": "white",
             "linecolor": "white",
             "minorgridcolor": "white",
             "startlinecolor": "#2a3f5f"
            },
            "baxis": {
             "endlinecolor": "#2a3f5f",
             "gridcolor": "white",
             "linecolor": "white",
             "minorgridcolor": "white",
             "startlinecolor": "#2a3f5f"
            },
            "type": "carpet"
           }
          ],
          "choropleth": [
           {
            "colorbar": {
             "outlinewidth": 0,
             "ticks": ""
            },
            "type": "choropleth"
           }
          ],
          "contour": [
           {
            "colorbar": {
             "outlinewidth": 0,
             "ticks": ""
            },
            "colorscale": [
             [
              0,
              "#0d0887"
             ],
             [
              0.1111111111111111,
              "#46039f"
             ],
             [
              0.2222222222222222,
              "#7201a8"
             ],
             [
              0.3333333333333333,
              "#9c179e"
             ],
             [
              0.4444444444444444,
              "#bd3786"
             ],
             [
              0.5555555555555556,
              "#d8576b"
             ],
             [
              0.6666666666666666,
              "#ed7953"
             ],
             [
              0.7777777777777778,
              "#fb9f3a"
             ],
             [
              0.8888888888888888,
              "#fdca26"
             ],
             [
              1,
              "#f0f921"
             ]
            ],
            "type": "contour"
           }
          ],
          "contourcarpet": [
           {
            "colorbar": {
             "outlinewidth": 0,
             "ticks": ""
            },
            "type": "contourcarpet"
           }
          ],
          "heatmap": [
           {
            "colorbar": {
             "outlinewidth": 0,
             "ticks": ""
            },
            "colorscale": [
             [
              0,
              "#0d0887"
             ],
             [
              0.1111111111111111,
              "#46039f"
             ],
             [
              0.2222222222222222,
              "#7201a8"
             ],
             [
              0.3333333333333333,
              "#9c179e"
             ],
             [
              0.4444444444444444,
              "#bd3786"
             ],
             [
              0.5555555555555556,
              "#d8576b"
             ],
             [
              0.6666666666666666,
              "#ed7953"
             ],
             [
              0.7777777777777778,
              "#fb9f3a"
             ],
             [
              0.8888888888888888,
              "#fdca26"
             ],
             [
              1,
              "#f0f921"
             ]
            ],
            "type": "heatmap"
           }
          ],
          "heatmapgl": [
           {
            "colorbar": {
             "outlinewidth": 0,
             "ticks": ""
            },
            "colorscale": [
             [
              0,
              "#0d0887"
             ],
             [
              0.1111111111111111,
              "#46039f"
             ],
             [
              0.2222222222222222,
              "#7201a8"
             ],
             [
              0.3333333333333333,
              "#9c179e"
             ],
             [
              0.4444444444444444,
              "#bd3786"
             ],
             [
              0.5555555555555556,
              "#d8576b"
             ],
             [
              0.6666666666666666,
              "#ed7953"
             ],
             [
              0.7777777777777778,
              "#fb9f3a"
             ],
             [
              0.8888888888888888,
              "#fdca26"
             ],
             [
              1,
              "#f0f921"
             ]
            ],
            "type": "heatmapgl"
           }
          ],
          "histogram": [
           {
            "marker": {
             "colorbar": {
              "outlinewidth": 0,
              "ticks": ""
             }
            },
            "type": "histogram"
           }
          ],
          "histogram2d": [
           {
            "colorbar": {
             "outlinewidth": 0,
             "ticks": ""
            },
            "colorscale": [
             [
              0,
              "#0d0887"
             ],
             [
              0.1111111111111111,
              "#46039f"
             ],
             [
              0.2222222222222222,
              "#7201a8"
             ],
             [
              0.3333333333333333,
              "#9c179e"
             ],
             [
              0.4444444444444444,
              "#bd3786"
             ],
             [
              0.5555555555555556,
              "#d8576b"
             ],
             [
              0.6666666666666666,
              "#ed7953"
             ],
             [
              0.7777777777777778,
              "#fb9f3a"
             ],
             [
              0.8888888888888888,
              "#fdca26"
             ],
             [
              1,
              "#f0f921"
             ]
            ],
            "type": "histogram2d"
           }
          ],
          "histogram2dcontour": [
           {
            "colorbar": {
             "outlinewidth": 0,
             "ticks": ""
            },
            "colorscale": [
             [
              0,
              "#0d0887"
             ],
             [
              0.1111111111111111,
              "#46039f"
             ],
             [
              0.2222222222222222,
              "#7201a8"
             ],
             [
              0.3333333333333333,
              "#9c179e"
             ],
             [
              0.4444444444444444,
              "#bd3786"
             ],
             [
              0.5555555555555556,
              "#d8576b"
             ],
             [
              0.6666666666666666,
              "#ed7953"
             ],
             [
              0.7777777777777778,
              "#fb9f3a"
             ],
             [
              0.8888888888888888,
              "#fdca26"
             ],
             [
              1,
              "#f0f921"
             ]
            ],
            "type": "histogram2dcontour"
           }
          ],
          "mesh3d": [
           {
            "colorbar": {
             "outlinewidth": 0,
             "ticks": ""
            },
            "type": "mesh3d"
           }
          ],
          "parcoords": [
           {
            "line": {
             "colorbar": {
              "outlinewidth": 0,
              "ticks": ""
             }
            },
            "type": "parcoords"
           }
          ],
          "pie": [
           {
            "automargin": true,
            "type": "pie"
           }
          ],
          "scatter": [
           {
            "marker": {
             "colorbar": {
              "outlinewidth": 0,
              "ticks": ""
             }
            },
            "type": "scatter"
           }
          ],
          "scatter3d": [
           {
            "line": {
             "colorbar": {
              "outlinewidth": 0,
              "ticks": ""
             }
            },
            "marker": {
             "colorbar": {
              "outlinewidth": 0,
              "ticks": ""
             }
            },
            "type": "scatter3d"
           }
          ],
          "scattercarpet": [
           {
            "marker": {
             "colorbar": {
              "outlinewidth": 0,
              "ticks": ""
             }
            },
            "type": "scattercarpet"
           }
          ],
          "scattergeo": [
           {
            "marker": {
             "colorbar": {
              "outlinewidth": 0,
              "ticks": ""
             }
            },
            "type": "scattergeo"
           }
          ],
          "scattergl": [
           {
            "marker": {
             "colorbar": {
              "outlinewidth": 0,
              "ticks": ""
             }
            },
            "type": "scattergl"
           }
          ],
          "scattermapbox": [
           {
            "marker": {
             "colorbar": {
              "outlinewidth": 0,
              "ticks": ""
             }
            },
            "type": "scattermapbox"
           }
          ],
          "scatterpolar": [
           {
            "marker": {
             "colorbar": {
              "outlinewidth": 0,
              "ticks": ""
             }
            },
            "type": "scatterpolar"
           }
          ],
          "scatterpolargl": [
           {
            "marker": {
             "colorbar": {
              "outlinewidth": 0,
              "ticks": ""
             }
            },
            "type": "scatterpolargl"
           }
          ],
          "scatterternary": [
           {
            "marker": {
             "colorbar": {
              "outlinewidth": 0,
              "ticks": ""
             }
            },
            "type": "scatterternary"
           }
          ],
          "surface": [
           {
            "colorbar": {
             "outlinewidth": 0,
             "ticks": ""
            },
            "colorscale": [
             [
              0,
              "#0d0887"
             ],
             [
              0.1111111111111111,
              "#46039f"
             ],
             [
              0.2222222222222222,
              "#7201a8"
             ],
             [
              0.3333333333333333,
              "#9c179e"
             ],
             [
              0.4444444444444444,
              "#bd3786"
             ],
             [
              0.5555555555555556,
              "#d8576b"
             ],
             [
              0.6666666666666666,
              "#ed7953"
             ],
             [
              0.7777777777777778,
              "#fb9f3a"
             ],
             [
              0.8888888888888888,
              "#fdca26"
             ],
             [
              1,
              "#f0f921"
             ]
            ],
            "type": "surface"
           }
          ],
          "table": [
           {
            "cells": {
             "fill": {
              "color": "#EBF0F8"
             },
             "line": {
              "color": "white"
             }
            },
            "header": {
             "fill": {
              "color": "#C8D4E3"
             },
             "line": {
              "color": "white"
             }
            },
            "type": "table"
           }
          ]
         },
         "layout": {
          "annotationdefaults": {
           "arrowcolor": "#2a3f5f",
           "arrowhead": 0,
           "arrowwidth": 1
          },
          "coloraxis": {
           "colorbar": {
            "outlinewidth": 0,
            "ticks": ""
           }
          },
          "colorscale": {
           "diverging": [
            [
             0,
             "#8e0152"
            ],
            [
             0.1,
             "#c51b7d"
            ],
            [
             0.2,
             "#de77ae"
            ],
            [
             0.3,
             "#f1b6da"
            ],
            [
             0.4,
             "#fde0ef"
            ],
            [
             0.5,
             "#f7f7f7"
            ],
            [
             0.6,
             "#e6f5d0"
            ],
            [
             0.7,
             "#b8e186"
            ],
            [
             0.8,
             "#7fbc41"
            ],
            [
             0.9,
             "#4d9221"
            ],
            [
             1,
             "#276419"
            ]
           ],
           "sequential": [
            [
             0,
             "#0d0887"
            ],
            [
             0.1111111111111111,
             "#46039f"
            ],
            [
             0.2222222222222222,
             "#7201a8"
            ],
            [
             0.3333333333333333,
             "#9c179e"
            ],
            [
             0.4444444444444444,
             "#bd3786"
            ],
            [
             0.5555555555555556,
             "#d8576b"
            ],
            [
             0.6666666666666666,
             "#ed7953"
            ],
            [
             0.7777777777777778,
             "#fb9f3a"
            ],
            [
             0.8888888888888888,
             "#fdca26"
            ],
            [
             1,
             "#f0f921"
            ]
           ],
           "sequentialminus": [
            [
             0,
             "#0d0887"
            ],
            [
             0.1111111111111111,
             "#46039f"
            ],
            [
             0.2222222222222222,
             "#7201a8"
            ],
            [
             0.3333333333333333,
             "#9c179e"
            ],
            [
             0.4444444444444444,
             "#bd3786"
            ],
            [
             0.5555555555555556,
             "#d8576b"
            ],
            [
             0.6666666666666666,
             "#ed7953"
            ],
            [
             0.7777777777777778,
             "#fb9f3a"
            ],
            [
             0.8888888888888888,
             "#fdca26"
            ],
            [
             1,
             "#f0f921"
            ]
           ]
          },
          "colorway": [
           "#636efa",
           "#EF553B",
           "#00cc96",
           "#ab63fa",
           "#FFA15A",
           "#19d3f3",
           "#FF6692",
           "#B6E880",
           "#FF97FF",
           "#FECB52"
          ],
          "font": {
           "color": "#2a3f5f"
          },
          "geo": {
           "bgcolor": "white",
           "lakecolor": "white",
           "landcolor": "#E5ECF6",
           "showlakes": true,
           "showland": true,
           "subunitcolor": "white"
          },
          "hoverlabel": {
           "align": "left"
          },
          "hovermode": "closest",
          "mapbox": {
           "style": "light"
          },
          "paper_bgcolor": "white",
          "plot_bgcolor": "#E5ECF6",
          "polar": {
           "angularaxis": {
            "gridcolor": "white",
            "linecolor": "white",
            "ticks": ""
           },
           "bgcolor": "#E5ECF6",
           "radialaxis": {
            "gridcolor": "white",
            "linecolor": "white",
            "ticks": ""
           }
          },
          "scene": {
           "xaxis": {
            "backgroundcolor": "#E5ECF6",
            "gridcolor": "white",
            "gridwidth": 2,
            "linecolor": "white",
            "showbackground": true,
            "ticks": "",
            "zerolinecolor": "white"
           },
           "yaxis": {
            "backgroundcolor": "#E5ECF6",
            "gridcolor": "white",
            "gridwidth": 2,
            "linecolor": "white",
            "showbackground": true,
            "ticks": "",
            "zerolinecolor": "white"
           },
           "zaxis": {
            "backgroundcolor": "#E5ECF6",
            "gridcolor": "white",
            "gridwidth": 2,
            "linecolor": "white",
            "showbackground": true,
            "ticks": "",
            "zerolinecolor": "white"
           }
          },
          "shapedefaults": {
           "line": {
            "color": "#2a3f5f"
           }
          },
          "ternary": {
           "aaxis": {
            "gridcolor": "white",
            "linecolor": "white",
            "ticks": ""
           },
           "baxis": {
            "gridcolor": "white",
            "linecolor": "white",
            "ticks": ""
           },
           "bgcolor": "#E5ECF6",
           "caxis": {
            "gridcolor": "white",
            "linecolor": "white",
            "ticks": ""
           }
          },
          "title": {
           "x": 0.05
          },
          "xaxis": {
           "automargin": true,
           "gridcolor": "white",
           "linecolor": "white",
           "ticks": "",
           "title": {
            "standoff": 15
           },
           "zerolinecolor": "white",
           "zerolinewidth": 2
          },
          "yaxis": {
           "automargin": true,
           "gridcolor": "white",
           "linecolor": "white",
           "ticks": "",
           "title": {
            "standoff": 15
           },
           "zerolinecolor": "white",
           "zerolinewidth": 2
          }
         }
        },
        "title": {
         "text": "France"
        },
        "xaxis": {
         "anchor": "y",
         "domain": [
          0,
          1
         ],
         "title": {
          "text": "Mois"
         }
        },
        "yaxis": {
         "anchor": "x",
         "domain": [
          0,
          1
         ],
         "title": {
          "text": "Volume"
         }
        }
       }
      },
      "text/html": [
       "<div>\n",
       "        \n",
       "        \n",
       "            <div id=\"cc9ef0e3-9fea-49f0-8910-70a35a846238\" class=\"plotly-graph-div\" style=\"height:525px; width:100%;\"></div>\n",
       "            <script type=\"text/javascript\">\n",
       "                require([\"plotly\"], function(Plotly) {\n",
       "                    window.PLOTLYENV=window.PLOTLYENV || {};\n",
       "                    \n",
       "                if (document.getElementById(\"cc9ef0e3-9fea-49f0-8910-70a35a846238\")) {\n",
       "                    Plotly.newPlot(\n",
       "                        'cc9ef0e3-9fea-49f0-8910-70a35a846238',\n",
       "                        [{\"hoverlabel\": {\"namelength\": 0}, \"hovertemplate\": \"x=%{x}<br>y=%{y}\", \"legendgroup\": \"\", \"line\": {\"color\": \"#636efa\", \"dash\": \"solid\"}, \"mode\": \"lines\", \"name\": \"\", \"showlegend\": false, \"type\": \"scatter\", \"x\": [\"2019-12-31\", \"2020-01-01\", \"2020-01-02\", \"2020-01-03\", \"2020-01-04\", \"2020-01-05\", \"2020-01-06\", \"2020-01-07\", \"2020-01-08\", \"2020-01-09\", \"2020-01-10\", \"2020-01-11\", \"2020-01-12\", \"2020-01-13\", \"2020-01-14\", \"2020-01-15\", \"2020-01-16\", \"2020-01-17\", \"2020-01-18\", \"2020-01-19\", \"2020-01-20\", \"2020-01-21\", \"2020-01-22\", \"2020-01-23\", \"2020-01-24\", \"2020-01-25\", \"2020-01-26\", \"2020-01-27\", \"2020-01-28\", \"2020-01-29\", \"2020-01-30\", \"2020-01-31\", \"2020-02-01\", \"2020-02-02\", \"2020-02-03\", \"2020-02-04\", \"2020-02-05\", \"2020-02-06\", \"2020-02-07\", \"2020-02-08\", \"2020-02-09\", \"2020-02-10\", \"2020-02-11\", \"2020-02-12\", \"2020-02-13\", \"2020-02-14\", \"2020-02-15\", \"2020-02-16\", \"2020-02-17\", \"2020-02-18\", \"2020-02-19\", \"2020-02-20\", \"2020-02-21\", \"2020-02-22\", \"2020-02-23\", \"2020-02-24\", \"2020-02-25\", \"2020-02-26\", \"2020-02-27\", \"2020-02-28\", \"2020-02-29\", \"2020-03-01\", \"2020-03-02\", \"2020-03-03\", \"2020-03-04\", \"2020-03-05\", \"2020-03-06\", \"2020-03-07\", \"2020-03-08\", \"2020-03-09\", \"2020-03-10\", \"2020-03-11\", \"2020-03-12\", \"2020-03-13\", \"2020-03-14\", \"2020-03-15\", \"2020-03-16\", \"2020-03-17\", \"2020-03-18\", \"2020-03-19\", \"2020-03-20\", \"2020-03-21\", \"2020-03-22\", \"2020-03-23\", \"2020-03-24\", \"2020-03-25\", \"2020-03-26\", \"2020-03-27\", \"2020-03-28\", \"2020-03-29\", \"2020-03-30\", \"2020-03-31\", \"2020-04-01\", \"2020-04-02\", \"2020-04-03\", \"2020-04-04\", \"2020-04-05\", \"2020-04-06\", \"2020-04-07\", \"2020-04-08\", \"2020-04-09\", \"2020-04-10\", \"2020-04-11\", \"2020-04-12\", \"2020-04-13\", \"2020-04-14\", \"2020-04-15\", \"2020-04-16\", \"2020-04-17\", \"2020-04-18\", \"2020-04-19\", \"2020-04-20\", \"2020-04-21\", \"2020-04-22\", \"2020-04-23\", \"2020-04-24\", \"2020-04-25\", \"2020-04-26\", \"2020-04-27\", \"2020-04-28\", \"2020-04-29\", \"2020-04-30\", \"2020-05-01\", \"2020-05-02\", \"2020-05-03\", \"2020-05-04\", \"2020-05-05\", \"2020-05-06\", \"2020-05-07\", \"2020-05-08\", \"2020-05-09\", \"2020-05-10\", \"2020-05-11\", \"2020-05-12\", \"2020-05-13\", \"2020-05-14\", \"2020-05-15\", \"2020-05-16\", \"2020-05-17\", \"2020-05-18\", \"2020-05-19\", \"2020-05-20\", \"2020-05-21\", \"2020-05-22\", \"2020-05-23\", \"2020-05-24\", \"2020-05-25\", \"2020-05-26\", \"2020-05-27\", \"2020-05-28\", \"2020-05-29\", \"2020-05-30\", \"2020-05-31\", \"2020-06-01\", \"2020-06-02\", \"2020-06-03\", \"2020-06-04\", \"2020-06-05\", \"2020-06-06\", \"2020-06-07\", \"2020-06-08\", \"2020-06-09\", \"2020-06-10\", \"2020-06-11\", \"2020-06-12\", \"2020-06-13\", \"2020-06-14\", \"2020-06-15\", \"2020-06-16\", \"2020-06-17\", \"2020-06-18\", \"2020-06-19\", \"2020-06-20\", \"2020-06-21\", \"2020-06-22\", \"2020-06-23\", \"2020-06-24\", \"2020-06-25\", \"2020-06-26\", \"2020-06-27\", \"2020-06-28\", \"2020-06-29\", \"2020-06-30\", \"2020-07-01\", \"2020-07-02\", \"2020-07-03\", \"2020-07-04\", \"2020-07-05\", \"2020-07-06\", \"2020-07-07\", \"2020-07-08\", \"2020-07-09\", \"2020-07-10\", \"2020-07-11\", \"2020-07-12\", \"2020-07-13\", \"2020-07-14\", \"2020-07-15\", \"2020-07-16\", \"2020-07-17\", \"2020-07-18\", \"2020-07-19\", \"2020-07-20\", \"2020-07-21\", \"2020-07-22\", \"2020-07-23\", \"2020-07-24\", \"2020-07-25\", \"2020-07-26\", \"2020-07-27\", \"2020-07-28\", \"2020-07-29\", \"2020-07-30\", \"2020-07-31\", \"2020-08-01\", \"2020-08-02\", \"2020-08-03\", \"2020-08-04\", \"2020-08-05\", \"2020-08-06\", \"2020-08-07\", \"2020-08-08\", \"2020-08-09\", \"2020-08-10\", \"2020-08-11\", \"2020-08-12\", \"2020-08-13\", \"2020-08-14\", \"2020-08-15\", \"2020-08-16\", \"2020-08-17\", \"2020-08-18\", \"2020-08-19\", \"2020-08-20\", \"2020-08-21\", \"2020-08-22\", \"2020-08-23\", \"2020-08-24\", \"2020-08-25\", \"2020-08-26\", \"2020-08-27\", \"2020-08-28\", \"2020-08-29\", \"2020-08-30\", \"2020-08-31\", \"2020-09-01\", \"2020-09-02\", \"2020-09-03\", \"2020-09-04\", \"2020-09-05\", \"2020-09-06\", \"2020-09-07\", \"2020-09-08\", \"2020-09-09\", \"2020-09-10\", \"2020-09-11\", \"2020-09-12\", \"2020-09-13\", \"2020-09-14\", \"2020-09-15\", \"2020-09-16\", \"2020-09-17\", \"2020-09-18\", \"2020-09-19\", \"2020-09-20\", \"2020-09-21\", \"2020-09-22\", \"2020-09-23\", \"2020-09-24\", \"2020-09-25\", \"2020-09-26\", \"2020-09-27\", \"2020-09-28\", \"2020-09-29\", \"2020-09-30\", \"2020-10-01\", \"2020-10-02\", \"2020-10-03\", \"2020-10-04\", \"2020-10-05\", \"2020-10-06\", \"2020-10-07\", \"2020-10-08\", \"2020-10-09\", \"2020-10-10\", \"2020-10-11\", \"2020-10-12\", \"2020-10-13\", \"2020-10-14\", \"2020-10-15\", \"2020-10-16\", \"2020-10-17\", \"2020-10-18\", \"2020-10-19\", \"2020-10-20\", \"2020-10-21\", \"2020-10-22\", \"2020-10-23\", \"2020-10-24\", \"2020-10-25\", \"2020-10-26\", \"2020-10-27\", \"2020-10-28\", \"2020-10-29\", \"2020-10-30\", \"2020-10-31\", \"2020-11-01\", \"2020-11-02\", \"2020-11-03\"], \"xaxis\": \"x\", \"y\": [0.0, 0.0, 0.0, 0.0, 0.0, 0.0, 0.0, 0.0, 0.0, 0.0, 0.0, 0.0, 0.0, 0.0, 0.0, 0.0, 0.0, 0.0, 0.0, 0.0, 0.0, 0.0, 0.0, 0.0, 0.0, 0.0, 0.0, 0.0, 0.0, 0.0, 0.0, 0.0, 0.0, 0.0, 0.0, 0.0, 0.0, 0.0, 0.0, 0.0, 0.0, 0.0, 0.0, 0.0, 0.0, 0.0, 1.0, 1.0, 1.0, 1.0, 1.0, 1.0, 1.0, 1.0, 1.0, 1.0, 1.0, 1.0, 2.0, 2.0, 2.0, 2.0, 2.0, 3.0, 4.0, 4.0, 7.0, 9.0, 10.0, 19.0, 30.0, 33.0, 48.0, 61.0, 79.0, 91.0, 127.0, 148.0, 175.0, 244.0, 372.0, 450.0, 562.0, 674.0, 860.0, 1100.0, 1331.0, 1696.0, 1995.0, 2314.0, 2606.0, 3024.0, 3523.0, 4032.0, 4503.0, 6507.0, 7560.0, 8078.0, 8911.0, 10328.0, 10869.0, 12210.0, 13197.0, 13832.0, 14393.0, 14967.0, 15729.0, 17167.0, 17920.0, 18681.0, 19323.0, 19718.0, 20265.0, 20796.0, 21340.0, 21856.0, 22245.0, 22614.0, 22856.0, 23293.0, 23660.0, 24087.0, 24376.0, 24594.0, 24760.0, 24895.0, 25201.0, 25531.0, 25809.0, 25987.0, 26230.0, 26310.0, 26380.0, 26643.0, 26991.0, 27074.0, 27425.0, 27555.0, 27643.0, 27711.0, 27897.0, 28022.0, 28132.0, 28215.0, 28289.0, 28332.0, 28367.0, 28432.0, 28530.0, 28596.0, 28662.0, 28714.0, 28771.0, 28802.0, 28833.0, 28940.0, 29021.0, 29065.0, 29111.0, 29142.0, 29155.0, 29209.0, 29296.0, 29319.0, 29346.0, 29374.0, 29398.0, 29407.0, 29436.0, 29547.0, 29575.0, 29603.0, 29617.0, 29633.0, 29640.0, 29663.0, 29720.0, 29731.0, 29752.0, 29778.0, 29778.0, 29778.0, 29813.0, 29843.0, 29861.0, 29875.0, 29893.0, 29893.0, 29893.0, 29920.0, 29933.0, 29965.0, 29979.0, 30004.0, 30004.0, 30004.0, 30029.0, 30029.0, 30120.0, 30138.0, 30152.0, 30152.0, 30152.0, 30165.0, 30165.0, 30172.0, 30182.0, 30192.0, 30192.0, 30192.0, 30209.0, 30223.0, 30238.0, 30254.0, 30265.0, 30265.0, 30265.0, 30294.0, 30296.0, 30305.0, 30312.0, 30324.0, 30324.0, 30324.0, 30340.0, 30354.0, 30371.0, 30388.0, 30406.0, 30409.0, 30410.0, 30429.0, 30451.0, 30468.0, 30480.0, 30503.0, 30512.0, 30513.0, 30528.0, 30544.0, 30544.0, 30576.0, 30596.0, 30602.0, 30606.0, 30635.0, 30661.0, 30686.0, 30686.0, 30686.0, 30698.0, 30701.0, 30726.0, 30764.0, 30794.0, 30813.0, 30893.0, 30910.0, 30916.0, 30950.0, 30999.0, 31045.0, 31095.0, 31249.0, 31274.0, 31285.0, 31338.0, 31416.0, 31459.0, 31511.0, 31661.0, 31700.0, 31727.0, 31808.0, 31893.0, 31956.0, 32019.0, 32155.0, 32198.0, 32230.0, 32299.0, 32365.0, 32445.0, 32521.0, 32630.0, 32684.0, 32730.0, 32825.0, 32933.0, 33037.0, 33125.0, 33303.0, 33392.0, 33477.0, 33623.0, 33885.0, 34048.0, 34210.0, 34508.0, 34645.0, 34761.0, 35018.0, 35541.0, 35785.0, 36020.0, 36565.0, 36788.0, 37019.0, 37435.0], \"yaxis\": \"y\"}],\n",
       "                        {\"font\": {\"color\": \"#78281F\", \"family\": \"Courier New, monospace\", \"size\": 18}, \"legend\": {\"tracegroupgap\": 0}, \"margin\": {\"t\": 60}, \"template\": {\"data\": {\"bar\": [{\"error_x\": {\"color\": \"#2a3f5f\"}, \"error_y\": {\"color\": \"#2a3f5f\"}, \"marker\": {\"line\": {\"color\": \"#E5ECF6\", \"width\": 0.5}}, \"type\": \"bar\"}], \"barpolar\": [{\"marker\": {\"line\": {\"color\": \"#E5ECF6\", \"width\": 0.5}}, \"type\": \"barpolar\"}], \"carpet\": [{\"aaxis\": {\"endlinecolor\": \"#2a3f5f\", \"gridcolor\": \"white\", \"linecolor\": \"white\", \"minorgridcolor\": \"white\", \"startlinecolor\": \"#2a3f5f\"}, \"baxis\": {\"endlinecolor\": \"#2a3f5f\", \"gridcolor\": \"white\", \"linecolor\": \"white\", \"minorgridcolor\": \"white\", \"startlinecolor\": \"#2a3f5f\"}, \"type\": \"carpet\"}], \"choropleth\": [{\"colorbar\": {\"outlinewidth\": 0, \"ticks\": \"\"}, \"type\": \"choropleth\"}], \"contour\": [{\"colorbar\": {\"outlinewidth\": 0, \"ticks\": \"\"}, \"colorscale\": [[0.0, \"#0d0887\"], [0.1111111111111111, \"#46039f\"], [0.2222222222222222, \"#7201a8\"], [0.3333333333333333, \"#9c179e\"], [0.4444444444444444, \"#bd3786\"], [0.5555555555555556, \"#d8576b\"], [0.6666666666666666, \"#ed7953\"], [0.7777777777777778, \"#fb9f3a\"], [0.8888888888888888, \"#fdca26\"], [1.0, \"#f0f921\"]], \"type\": \"contour\"}], \"contourcarpet\": [{\"colorbar\": {\"outlinewidth\": 0, \"ticks\": \"\"}, \"type\": \"contourcarpet\"}], \"heatmap\": [{\"colorbar\": {\"outlinewidth\": 0, \"ticks\": \"\"}, \"colorscale\": [[0.0, \"#0d0887\"], [0.1111111111111111, \"#46039f\"], [0.2222222222222222, \"#7201a8\"], [0.3333333333333333, \"#9c179e\"], [0.4444444444444444, \"#bd3786\"], [0.5555555555555556, \"#d8576b\"], [0.6666666666666666, \"#ed7953\"], [0.7777777777777778, \"#fb9f3a\"], [0.8888888888888888, \"#fdca26\"], [1.0, \"#f0f921\"]], \"type\": \"heatmap\"}], \"heatmapgl\": [{\"colorbar\": {\"outlinewidth\": 0, \"ticks\": \"\"}, \"colorscale\": [[0.0, \"#0d0887\"], [0.1111111111111111, \"#46039f\"], [0.2222222222222222, \"#7201a8\"], [0.3333333333333333, \"#9c179e\"], [0.4444444444444444, \"#bd3786\"], [0.5555555555555556, \"#d8576b\"], [0.6666666666666666, \"#ed7953\"], [0.7777777777777778, \"#fb9f3a\"], [0.8888888888888888, \"#fdca26\"], [1.0, \"#f0f921\"]], \"type\": \"heatmapgl\"}], \"histogram\": [{\"marker\": {\"colorbar\": {\"outlinewidth\": 0, \"ticks\": \"\"}}, \"type\": \"histogram\"}], \"histogram2d\": [{\"colorbar\": {\"outlinewidth\": 0, \"ticks\": \"\"}, \"colorscale\": [[0.0, \"#0d0887\"], [0.1111111111111111, \"#46039f\"], [0.2222222222222222, \"#7201a8\"], [0.3333333333333333, \"#9c179e\"], [0.4444444444444444, \"#bd3786\"], [0.5555555555555556, \"#d8576b\"], [0.6666666666666666, \"#ed7953\"], [0.7777777777777778, \"#fb9f3a\"], [0.8888888888888888, \"#fdca26\"], [1.0, \"#f0f921\"]], \"type\": \"histogram2d\"}], \"histogram2dcontour\": [{\"colorbar\": {\"outlinewidth\": 0, \"ticks\": \"\"}, \"colorscale\": [[0.0, \"#0d0887\"], [0.1111111111111111, \"#46039f\"], [0.2222222222222222, \"#7201a8\"], [0.3333333333333333, \"#9c179e\"], [0.4444444444444444, \"#bd3786\"], [0.5555555555555556, \"#d8576b\"], [0.6666666666666666, \"#ed7953\"], [0.7777777777777778, \"#fb9f3a\"], [0.8888888888888888, \"#fdca26\"], [1.0, \"#f0f921\"]], \"type\": \"histogram2dcontour\"}], \"mesh3d\": [{\"colorbar\": {\"outlinewidth\": 0, \"ticks\": \"\"}, \"type\": \"mesh3d\"}], \"parcoords\": [{\"line\": {\"colorbar\": {\"outlinewidth\": 0, \"ticks\": \"\"}}, \"type\": \"parcoords\"}], \"pie\": [{\"automargin\": true, \"type\": \"pie\"}], \"scatter\": [{\"marker\": {\"colorbar\": {\"outlinewidth\": 0, \"ticks\": \"\"}}, \"type\": \"scatter\"}], \"scatter3d\": [{\"line\": {\"colorbar\": {\"outlinewidth\": 0, \"ticks\": \"\"}}, \"marker\": {\"colorbar\": {\"outlinewidth\": 0, \"ticks\": \"\"}}, \"type\": \"scatter3d\"}], \"scattercarpet\": [{\"marker\": {\"colorbar\": {\"outlinewidth\": 0, \"ticks\": \"\"}}, \"type\": \"scattercarpet\"}], \"scattergeo\": [{\"marker\": {\"colorbar\": {\"outlinewidth\": 0, \"ticks\": \"\"}}, \"type\": \"scattergeo\"}], \"scattergl\": [{\"marker\": {\"colorbar\": {\"outlinewidth\": 0, \"ticks\": \"\"}}, \"type\": \"scattergl\"}], \"scattermapbox\": [{\"marker\": {\"colorbar\": {\"outlinewidth\": 0, \"ticks\": \"\"}}, \"type\": \"scattermapbox\"}], \"scatterpolar\": [{\"marker\": {\"colorbar\": {\"outlinewidth\": 0, \"ticks\": \"\"}}, \"type\": \"scatterpolar\"}], \"scatterpolargl\": [{\"marker\": {\"colorbar\": {\"outlinewidth\": 0, \"ticks\": \"\"}}, \"type\": \"scatterpolargl\"}], \"scatterternary\": [{\"marker\": {\"colorbar\": {\"outlinewidth\": 0, \"ticks\": \"\"}}, \"type\": \"scatterternary\"}], \"surface\": [{\"colorbar\": {\"outlinewidth\": 0, \"ticks\": \"\"}, \"colorscale\": [[0.0, \"#0d0887\"], [0.1111111111111111, \"#46039f\"], [0.2222222222222222, \"#7201a8\"], [0.3333333333333333, \"#9c179e\"], [0.4444444444444444, \"#bd3786\"], [0.5555555555555556, \"#d8576b\"], [0.6666666666666666, \"#ed7953\"], [0.7777777777777778, \"#fb9f3a\"], [0.8888888888888888, \"#fdca26\"], [1.0, \"#f0f921\"]], \"type\": \"surface\"}], \"table\": [{\"cells\": {\"fill\": {\"color\": \"#EBF0F8\"}, \"line\": {\"color\": \"white\"}}, \"header\": {\"fill\": {\"color\": \"#C8D4E3\"}, \"line\": {\"color\": \"white\"}}, \"type\": \"table\"}]}, \"layout\": {\"annotationdefaults\": {\"arrowcolor\": \"#2a3f5f\", \"arrowhead\": 0, \"arrowwidth\": 1}, \"coloraxis\": {\"colorbar\": {\"outlinewidth\": 0, \"ticks\": \"\"}}, \"colorscale\": {\"diverging\": [[0, \"#8e0152\"], [0.1, \"#c51b7d\"], [0.2, \"#de77ae\"], [0.3, \"#f1b6da\"], [0.4, \"#fde0ef\"], [0.5, \"#f7f7f7\"], [0.6, \"#e6f5d0\"], [0.7, \"#b8e186\"], [0.8, \"#7fbc41\"], [0.9, \"#4d9221\"], [1, \"#276419\"]], \"sequential\": [[0.0, \"#0d0887\"], [0.1111111111111111, \"#46039f\"], [0.2222222222222222, \"#7201a8\"], [0.3333333333333333, \"#9c179e\"], [0.4444444444444444, \"#bd3786\"], [0.5555555555555556, \"#d8576b\"], [0.6666666666666666, \"#ed7953\"], [0.7777777777777778, \"#fb9f3a\"], [0.8888888888888888, \"#fdca26\"], [1.0, \"#f0f921\"]], \"sequentialminus\": [[0.0, \"#0d0887\"], [0.1111111111111111, \"#46039f\"], [0.2222222222222222, \"#7201a8\"], [0.3333333333333333, \"#9c179e\"], [0.4444444444444444, \"#bd3786\"], [0.5555555555555556, \"#d8576b\"], [0.6666666666666666, \"#ed7953\"], [0.7777777777777778, \"#fb9f3a\"], [0.8888888888888888, \"#fdca26\"], [1.0, \"#f0f921\"]]}, \"colorway\": [\"#636efa\", \"#EF553B\", \"#00cc96\", \"#ab63fa\", \"#FFA15A\", \"#19d3f3\", \"#FF6692\", \"#B6E880\", \"#FF97FF\", \"#FECB52\"], \"font\": {\"color\": \"#2a3f5f\"}, \"geo\": {\"bgcolor\": \"white\", \"lakecolor\": \"white\", \"landcolor\": \"#E5ECF6\", \"showlakes\": true, \"showland\": true, \"subunitcolor\": \"white\"}, \"hoverlabel\": {\"align\": \"left\"}, \"hovermode\": \"closest\", \"mapbox\": {\"style\": \"light\"}, \"paper_bgcolor\": \"white\", \"plot_bgcolor\": \"#E5ECF6\", \"polar\": {\"angularaxis\": {\"gridcolor\": \"white\", \"linecolor\": \"white\", \"ticks\": \"\"}, \"bgcolor\": \"#E5ECF6\", \"radialaxis\": {\"gridcolor\": \"white\", \"linecolor\": \"white\", \"ticks\": \"\"}}, \"scene\": {\"xaxis\": {\"backgroundcolor\": \"#E5ECF6\", \"gridcolor\": \"white\", \"gridwidth\": 2, \"linecolor\": \"white\", \"showbackground\": true, \"ticks\": \"\", \"zerolinecolor\": \"white\"}, \"yaxis\": {\"backgroundcolor\": \"#E5ECF6\", \"gridcolor\": \"white\", \"gridwidth\": 2, \"linecolor\": \"white\", \"showbackground\": true, \"ticks\": \"\", \"zerolinecolor\": \"white\"}, \"zaxis\": {\"backgroundcolor\": \"#E5ECF6\", \"gridcolor\": \"white\", \"gridwidth\": 2, \"linecolor\": \"white\", \"showbackground\": true, \"ticks\": \"\", \"zerolinecolor\": \"white\"}}, \"shapedefaults\": {\"line\": {\"color\": \"#2a3f5f\"}}, \"ternary\": {\"aaxis\": {\"gridcolor\": \"white\", \"linecolor\": \"white\", \"ticks\": \"\"}, \"baxis\": {\"gridcolor\": \"white\", \"linecolor\": \"white\", \"ticks\": \"\"}, \"bgcolor\": \"#E5ECF6\", \"caxis\": {\"gridcolor\": \"white\", \"linecolor\": \"white\", \"ticks\": \"\"}}, \"title\": {\"x\": 0.05}, \"xaxis\": {\"automargin\": true, \"gridcolor\": \"white\", \"linecolor\": \"white\", \"ticks\": \"\", \"title\": {\"standoff\": 15}, \"zerolinecolor\": \"white\", \"zerolinewidth\": 2}, \"yaxis\": {\"automargin\": true, \"gridcolor\": \"white\", \"linecolor\": \"white\", \"ticks\": \"\", \"title\": {\"standoff\": 15}, \"zerolinecolor\": \"white\", \"zerolinewidth\": 2}}}, \"title\": {\"text\": \"France\"}, \"xaxis\": {\"anchor\": \"y\", \"domain\": [0.0, 1.0], \"title\": {\"text\": \"Mois\"}}, \"yaxis\": {\"anchor\": \"x\", \"domain\": [0.0, 1.0], \"title\": {\"text\": \"Volume\"}}},\n",
       "                        {\"responsive\": true}\n",
       "                    ).then(function(){\n",
       "                            \n",
       "var gd = document.getElementById('cc9ef0e3-9fea-49f0-8910-70a35a846238');\n",
       "var x = new MutationObserver(function (mutations, observer) {{\n",
       "        var display = window.getComputedStyle(gd).display;\n",
       "        if (!display || display === 'none') {{\n",
       "            console.log([gd, 'removed!']);\n",
       "            Plotly.purge(gd);\n",
       "            observer.disconnect();\n",
       "        }}\n",
       "}});\n",
       "\n",
       "// Listen for the removal of the full notebook cells\n",
       "var notebookContainer = gd.closest('#notebook-container');\n",
       "if (notebookContainer) {{\n",
       "    x.observe(notebookContainer, {childList: true});\n",
       "}}\n",
       "\n",
       "// Listen for the clearing of the current output cell\n",
       "var outputEl = gd.closest('.output');\n",
       "if (outputEl) {{\n",
       "    x.observe(outputEl, {childList: true});\n",
       "}}\n",
       "\n",
       "                        })\n",
       "                };\n",
       "                });\n",
       "            </script>\n",
       "        </div>"
      ]
     },
     "metadata": {},
     "output_type": "display_data"
    }
   ],
   "source": [
    "massBalance()"
   ]
  },
  {
   "cell_type": "code",
   "execution_count": 29,
   "metadata": {},
   "outputs": [],
   "source": [
    "rolling_mean = data_see.rolling(window = periode).mean()\n",
    "rolling_std = data_see.rolling(window = periode).std()"
   ]
  },
  {
   "cell_type": "code",
   "execution_count": 30,
   "metadata": {},
   "outputs": [
    {
     "data": {
      "image/png": "[encoded data removed]",
      "text/plain": [
       "<Figure size 432x288 with 1 Axes>"
      ]
     },
     "metadata": {
      "needs_background": "light"
     },
     "output_type": "display_data"
    }
   ],
   "source": [
    "plt.plot(data_see, color = 'blue', label = 'Origine')\n",
    "plt.plot(rolling_mean, color = 'red', label = 'Moyenne mobile')\n",
    "plt.plot(rolling_std, color = 'black', label = 'Ecart-type mobile')\n",
    "plt.legend(loc = 'best')\n",
    "plt.title('Moyenne et Ecart-type mobiles')\n",
    "plt.show()"
   ]
  },
  {
   "cell_type": "markdown",
   "metadata": {},
   "source": [
    "# Train Test Split"
   ]
  },
  {
   "cell_type": "code",
   "execution_count": 31,
   "metadata": {},
   "outputs": [],
   "source": [
    "data_see_np = data_see.values\n",
    "len_data_see = len(data_see_np)\n",
    "train_data_see = data_see_np[:len_data_see-test_size] \n",
    "test_data_see = data_see_np[len_data_see-test_size:]"
   ]
  },
  {
   "cell_type": "markdown",
   "metadata": {},
   "source": [
    "# Stats Models"
   ]
  },
  {
   "cell_type": "code",
   "execution_count": 32,
   "metadata": {},
   "outputs": [
    {
     "data": {
      "image/png": "[encoded data removed]",
      "text/plain": [
       "<Figure size 432x288 with 4 Axes>"
      ]
     },
     "metadata": {
      "needs_background": "light"
     },
     "output_type": "display_data"
    }
   ],
   "source": [
    "temp_df =  df[[f\"{subject}\"]].fillna(0)\n",
    "result = seasonal_decompose(temp_df, model='additive', period=periode) ## cumulative\n",
    "result.plot()\n",
    "plt.show()"
   ]
  },
  {
   "cell_type": "code",
   "execution_count": 33,
   "metadata": {},
   "outputs": [],
   "source": [
    "seasonal = result.seasonal\n",
    "trend = result.trend\n",
    "\n",
    "residual = df[f\"{subject}\"] - seasonal - trend\n",
    "residual = residual.fillna(0)"
   ]
  },
  {
   "cell_type": "code",
   "execution_count": 34,
   "metadata": {},
   "outputs": [
    {
     "name": "stdout",
     "output_type": "stream",
     "text": [
      "ADF Statistic: -1.0560694568463507\n",
      "p-value: 0.732269366177484\n"
     ]
    }
   ],
   "source": [
    "ADF_result = adfuller(df[f\"{subject}\"].fillna(0))\n",
    "print(f'ADF Statistic: {ADF_result[0]}')\n",
    "print(f'p-value: {ADF_result[1]}')"
   ]
  },
  {
   "cell_type": "code",
   "execution_count": 35,
   "metadata": {},
   "outputs": [
    {
     "name": "stdout",
     "output_type": "stream",
     "text": [
      "ADF Statistic: -4.980470612401727\n",
      "p-value: 2.4255388250055695e-05\n"
     ]
    }
   ],
   "source": [
    "ADF_result_residual = adfuller(residual)\n",
    "print(f'ADF Statistic: {ADF_result_residual[0]}')\n",
    "print(f'p-value: {ADF_result_residual[1]}')"
   ]
  },
  {
   "cell_type": "code",
   "execution_count": 36,
   "metadata": {},
   "outputs": [
    {
     "data": {
      "image/png": "[encoded data removed]",
      "text/plain": [
       "<Figure size 432x288 with 1 Axes>"
      ]
     },
     "metadata": {
      "needs_background": "light"
     },
     "output_type": "display_data"
    }
   ],
   "source": [
    "plot_acf(residual, lags=100)\n",
    "plt.show()"
   ]
  },
  {
   "cell_type": "code",
   "execution_count": 37,
   "metadata": {},
   "outputs": [
    {
     "data": {
      "image/png": "[encoded data removed]",
      "text/plain": [
       "<Figure size 432x288 with 1 Axes>"
      ]
     },
     "metadata": {
      "needs_background": "light"
     },
     "output_type": "display_data"
    }
   ],
   "source": [
    "plot_pacf(residual, lags=100);"
   ]
  },
  {
   "cell_type": "markdown",
   "metadata": {},
   "source": [
    "# Forecast"
   ]
  },
  {
   "cell_type": "code",
   "execution_count": 49,
   "metadata": {},
   "outputs": [
    {
     "name": "stdout",
     "output_type": "stream",
     "text": [
      "                               SARIMAX Results                                \n",
      "==============================================================================\n",
      "Dep. Variable:                      y   No. Observations:                  306\n",
      "Model:                ARIMA(10, 1, 0)   Log Likelihood               -1883.611\n",
      "Date:                Tue, 03 Nov 2020   AIC                           3789.223\n",
      "Time:                        15:47:27   BIC                           3830.146\n",
      "Sample:                             0   HQIC                          3805.591\n",
      "                                - 306                                         \n",
      "Covariance Type:                  opg                                         \n",
      "==============================================================================\n",
      "                 coef    std err          z      P>|z|      [0.025      0.975]\n",
      "------------------------------------------------------------------------------\n",
      "ar.L1          0.3665      0.067      5.456      0.000       0.235       0.498\n",
      "ar.L2          0.0119      0.046      0.261      0.794      -0.077       0.101\n",
      "ar.L3          0.3247      0.047      6.943      0.000       0.233       0.416\n",
      "ar.L4          0.1939      0.036      5.378      0.000       0.123       0.265\n",
      "ar.L5         -0.0947      0.035     -2.743      0.006      -0.162      -0.027\n",
      "ar.L6          0.4392      0.032     13.941      0.000       0.377       0.501\n",
      "ar.L7         -0.0584      0.043     -1.347      0.178      -0.143       0.027\n",
      "ar.L8          0.1656      0.037      4.473      0.000       0.093       0.238\n",
      "ar.L9         -0.2502      0.082     -3.034      0.002      -0.412      -0.089\n",
      "ar.L10        -0.1623      0.056     -2.883      0.004      -0.273      -0.052\n",
      "sigma2      1.338e+04    251.380     53.207      0.000    1.29e+04    1.39e+04\n",
      "===================================================================================\n",
      "Ljung-Box (L1) (Q):                   0.03   Jarque-Bera (JB):            123338.11\n",
      "Prob(Q):                              0.86   Prob(JB):                         0.00\n",
      "Heteroskedasticity (H):               0.10   Skew:                             7.32\n",
      "Prob(H) (two-sided):                  0.00   Kurtosis:                       100.42\n",
      "===================================================================================\n",
      "\n",
      "Warnings:\n",
      "[1] Covariance matrix calculated using the outer product of gradients (complex-step).\n"
     ]
    },
    {
     "data": {
      "image/png": "[encoded data removed]",
      "text/plain": [
       "<Figure size 432x288 with 1 Axes>"
      ]
     },
     "metadata": {
      "needs_background": "light"
     },
     "output_type": "display_data"
    },
    {
     "data": {
      "image/png": "[encoded data removed]",
      "text/plain": [
       "<Figure size 432x288 with 1 Axes>"
      ]
     },
     "metadata": {
      "needs_background": "light"
     },
     "output_type": "display_data"
    },
    {
     "name": "stdout",
     "output_type": "stream",
     "text": [
      "                 0\n",
      "count   306.000000\n",
      "mean      9.973677\n",
      "std     115.204770\n",
      "min    -411.657311\n",
      "25%      -9.388137\n",
      "50%       0.000000\n",
      "75%      14.777270\n",
      "max    1523.546493\n"
     ]
    }
   ],
   "source": [
    "def arrimm(x, silence_mod=False):\n",
    "    # fit model\n",
    "    model = ARIMA(x, order=(10,1,0))\n",
    "    model_fit = model.fit()\n",
    "    \n",
    "    if not silence_mod:\n",
    "        print(model_fit.summary())\n",
    "        # plot residual errors\n",
    "        residuals = pd.DataFrame(model_fit.resid)\n",
    "        residuals.plot()\n",
    "        plt.show()\n",
    "        residuals.plot(kind='kde')\n",
    "        plt.show()\n",
    "        print(residuals.describe())\n",
    "    return model_fit\n",
    "    \n",
    "model_arrima = arrimm(train_data_see)"
   ]
  },
  {
   "cell_type": "code",
   "execution_count": 50,
   "metadata": {},
   "outputs": [
    {
     "data": {
      "image/png": "[encoded data removed]",
      "text/plain": [
       "<Figure size 1200x500 with 1 Axes>"
      ]
     },
     "metadata": {
      "needs_background": "light"
     },
     "output_type": "display_data"
    }
   ],
   "source": [
    "# Forecast\n",
    "fc = model_arrima.forecast(test_size, alpha=0.05)  # 95% conf\n",
    "\n",
    "# Plot\n",
    "plt.figure(figsize=(12,5), dpi=100)\n",
    "# plt.plot(train_data_see, label='training')\n",
    "plt.plot(test_data_see, label='real')\n",
    "plt.plot(fc, label='forecast')\n",
    "plt.title(f'Last {test_size} days : Forecast vs Real test data')\n",
    "plt.legend(loc='upper left', fontsize=8)\n",
    "plt.show()"
   ]
  },
  {
   "cell_type": "code",
   "execution_count": 51,
   "metadata": {},
   "outputs": [
    {
     "name": "stdout",
     "output_type": "stream",
     "text": [
      "RMSE :  184.6706\n",
      "MAE :  183.5646\n"
     ]
    }
   ],
   "source": [
    "RMSE = np.sqrt(MSE(fc,test_data_see))\n",
    "print(\"RMSE : \", RMSE.round(4))\n",
    "\n",
    "score = MAE(fc,test_data_see)\n",
    "print(\"MAE : \", round(score,4))"
   ]
  },
  {
   "cell_type": "code",
   "execution_count": 41,
   "metadata": {},
   "outputs": [],
   "source": [
    "model_arrima_full = arrimm(data_see_np,silence_mod=True)"
   ]
  },
  {
   "cell_type": "code",
   "execution_count": 42,
   "metadata": {},
   "outputs": [
    {
     "data": {
      "image/png": "[encoded data removed]",
      "text/plain": [
       "<Figure size 1200x500 with 1 Axes>"
      ]
     },
     "metadata": {
      "needs_background": "light"
     },
     "output_type": "display_data"
    },
    {
     "name": "stdout",
     "output_type": "stream",
     "text": [
      "[37811.3857287  38112.84976995 38480.51681403]\n"
     ]
    }
   ],
   "source": [
    "fc_full = model_arrima_full.forecast(test_size, alpha=0.05)  # 95% conf\n",
    "# Plot\n",
    "\n",
    "plt.figure(figsize=(12,5), dpi=100)\n",
    "plt.plot(fc_full, label='forecast')\n",
    "plt.title(f'Previson next {test_size} days')\n",
    "plt.legend(loc='upper left', fontsize=8)\n",
    "plt.show()\n",
    "print(fc_full)"
   ]
  },
  {
   "cell_type": "markdown",
   "metadata": {},
   "source": [
    "# LSTM"
   ]
  },
  {
   "cell_type": "code",
   "execution_count": 20,
   "metadata": {},
   "outputs": [],
   "source": [
    "data_see_np = df[[f\"{subject}\"]].values"
   ]
  },
  {
   "cell_type": "code",
   "execution_count": 21,
   "metadata": {},
   "outputs": [
    {
     "data": {
      "text/plain": [
       "(287, 1)"
      ]
     },
     "execution_count": 21,
     "metadata": {},
     "output_type": "execute_result"
    }
   ],
   "source": [
    "data_see_np.shape"
   ]
  },
  {
   "cell_type": "code",
   "execution_count": 22,
   "metadata": {},
   "outputs": [],
   "source": [
    "def modSplit(periode, df_train):\n",
    "    \n",
    "    hisShape_train = df_train.shape[0]\n",
    "    \n",
    "    sc = StandardScaler()\n",
    "    df_train = sc.fit_transform(df_train)\n",
    "\n",
    "    #### Train prep ####\n",
    "    x_train = []\n",
    "    y_train = []\n",
    "\n",
    "    for i in range(periode,hisShape_train):\n",
    "        x_train.append(df_train[(i-periode):i,0]) \n",
    "        y_train.append(df_train[i,0])\n",
    "        \n",
    "    x_train = np.array(x_train)\n",
    "    y_train = np.array(y_train)\n",
    "     \n",
    "    return sc, x_train, y_train, "
   ]
  },
  {
   "cell_type": "code",
   "execution_count": 23,
   "metadata": {},
   "outputs": [],
   "source": [
    "sc, x_train, y_train,  = modSplit(periode, data_see_np)"
   ]
  },
  {
   "cell_type": "code",
   "execution_count": 24,
   "metadata": {},
   "outputs": [
    {
     "data": {
      "text/plain": [
       "((284, 3, 1), (284,))"
      ]
     },
     "execution_count": 24,
     "metadata": {},
     "output_type": "execute_result"
    }
   ],
   "source": [
    "input_dim = 1\n",
    "x_train = x_train.reshape(x_train.shape[0],x_train.shape[1],input_dim)\n",
    "x_train.shape, y_train.shape"
   ]
  },
  {
   "cell_type": "code",
   "execution_count": 25,
   "metadata": {},
   "outputs": [],
   "source": [
    "def recurrent_model(neurons=50):\n",
    "    model = Sequential()\n",
    "    \n",
    "    model.add(LSTM(neurons, return_sequences=True, input_shape=(x_train.shape[1],1)))\n",
    "    model.add(Dropout(0.1))\n",
    "    \n",
    "#     model.add(LSTM(25, return_sequences=True))\n",
    "#     model.add(Dropout(0.2))\n",
    "    \n",
    "#     model.add(LSTM(12, return_sequences=True))\n",
    "#     model.add(Dropout(0.2))\n",
    "    \n",
    "    model.add(LSTM(6, return_sequences=False))\n",
    "    model.add(Dropout(0.1))\n",
    "    \n",
    "    model.add(Dense(1))\n",
    "    model.compile(optimizer=\"Adam\",loss=\"mean_squared_error\")\n",
    " \n",
    "    return model"
   ]
  },
  {
   "cell_type": "code",
   "execution_count": 26,
   "metadata": {
    "scrolled": true
   },
   "outputs": [
    {
     "name": "stdout",
     "output_type": "stream",
     "text": [
      "Epoch 1/100\n",
      "24/24 [==============================] - 0s 10ms/step - loss: 0.8620\n",
      "Epoch 2/100\n",
      "24/24 [==============================] - 0s 10ms/step - loss: 0.5339\n",
      "Epoch 3/100\n",
      "24/24 [==============================] - 0s 10ms/step - loss: 0.2182\n",
      "Epoch 4/100\n",
      "24/24 [==============================] - 0s 9ms/step - loss: 0.0746\n",
      "Epoch 5/100\n",
      "24/24 [==============================] - 0s 10ms/step - loss: 0.0338\n",
      "Epoch 6/100\n",
      "24/24 [==============================] - 0s 9ms/step - loss: 0.0298\n",
      "Epoch 7/100\n",
      "24/24 [==============================] - 0s 10ms/step - loss: 0.0293\n",
      "Epoch 8/100\n",
      "24/24 [==============================] - 0s 10ms/step - loss: 0.0244\n",
      "Epoch 9/100\n",
      "24/24 [==============================] - 0s 10ms/step - loss: 0.0255\n",
      "Epoch 10/100\n",
      "24/24 [==============================] - 0s 9ms/step - loss: 0.0271\n",
      "Epoch 11/100\n",
      "24/24 [==============================] - 0s 11ms/step - loss: 0.0336\n",
      "Epoch 12/100\n",
      "24/24 [==============================] - 0s 9ms/step - loss: 0.0270\n",
      "Epoch 13/100\n",
      "24/24 [==============================] - 0s 10ms/step - loss: 0.0274\n",
      "Epoch 14/100\n",
      "24/24 [==============================] - 0s 11ms/step - loss: 0.0260\n",
      "Epoch 15/100\n",
      "24/24 [==============================] - 0s 10ms/step - loss: 0.0230\n",
      "Epoch 16/100\n",
      "24/24 [==============================] - 0s 9ms/step - loss: 0.0242\n",
      "Epoch 17/100\n",
      "24/24 [==============================] - 0s 10ms/step - loss: 0.0223\n",
      "Epoch 18/100\n",
      "24/24 [==============================] - 0s 10ms/step - loss: 0.0264\n",
      "Epoch 19/100\n",
      "24/24 [==============================] - 0s 9ms/step - loss: 0.0259\n",
      "Epoch 20/100\n",
      "24/24 [==============================] - 0s 9ms/step - loss: 0.0249\n",
      "Epoch 21/100\n",
      "24/24 [==============================] - 0s 9ms/step - loss: 0.0261\n",
      "Epoch 22/100\n",
      "24/24 [==============================] - 0s 10ms/step - loss: 0.0290\n",
      "Epoch 23/100\n",
      "24/24 [==============================] - 0s 9ms/step - loss: 0.0199\n",
      "Epoch 24/100\n",
      "24/24 [==============================] - 0s 10ms/step - loss: 0.0260\n",
      "Epoch 25/100\n",
      "24/24 [==============================] - 0s 9ms/step - loss: 0.0237\n",
      "Epoch 26/100\n",
      "24/24 [==============================] - 0s 10ms/step - loss: 0.0223\n",
      "Epoch 27/100\n",
      "24/24 [==============================] - 0s 9ms/step - loss: 0.0179\n",
      "Epoch 28/100\n",
      "24/24 [==============================] - 0s 10ms/step - loss: 0.0205\n",
      "Epoch 29/100\n",
      "24/24 [==============================] - 0s 9ms/step - loss: 0.0201\n",
      "Epoch 30/100\n",
      "24/24 [==============================] - 0s 9ms/step - loss: 0.0278\n",
      "Epoch 31/100\n",
      "24/24 [==============================] - 0s 9ms/step - loss: 0.0234\n",
      "Epoch 32/100\n",
      "24/24 [==============================] - 0s 9ms/step - loss: 0.0194\n",
      "Epoch 33/100\n",
      "24/24 [==============================] - 0s 9ms/step - loss: 0.0184\n",
      "Epoch 34/100\n",
      "24/24 [==============================] - 0s 9ms/step - loss: 0.0280\n",
      "Epoch 35/100\n",
      "24/24 [==============================] - 0s 10ms/step - loss: 0.0187\n",
      "Epoch 36/100\n",
      "24/24 [==============================] - 0s 10ms/step - loss: 0.0191\n",
      "Epoch 37/100\n",
      "24/24 [==============================] - 0s 9ms/step - loss: 0.0208\n",
      "Epoch 38/100\n",
      "24/24 [==============================] - 0s 10ms/step - loss: 0.0177\n",
      "Epoch 39/100\n",
      "24/24 [==============================] - 0s 10ms/step - loss: 0.0217\n",
      "Epoch 40/100\n",
      "24/24 [==============================] - 0s 9ms/step - loss: 0.0234\n",
      "Epoch 41/100\n",
      "24/24 [==============================] - 0s 9ms/step - loss: 0.0203\n",
      "Epoch 42/100\n",
      "24/24 [==============================] - 0s 9ms/step - loss: 0.0170\n",
      "Epoch 43/100\n",
      "24/24 [==============================] - 0s 9ms/step - loss: 0.0203\n",
      "Epoch 44/100\n",
      "24/24 [==============================] - 0s 9ms/step - loss: 0.0201\n",
      "Epoch 45/100\n",
      "24/24 [==============================] - 0s 9ms/step - loss: 0.0197A: 0s - loss: 0.0\n",
      "Epoch 46/100\n",
      "24/24 [==============================] - 0s 10ms/step - loss: 0.0200\n",
      "Epoch 47/100\n",
      "24/24 [==============================] - 0s 9ms/step - loss: 0.0231\n",
      "Epoch 48/100\n",
      "24/24 [==============================] - 0s 10ms/step - loss: 0.0185\n",
      "Epoch 49/100\n",
      "24/24 [==============================] - 0s 9ms/step - loss: 0.0248\n",
      "Epoch 50/100\n",
      "24/24 [==============================] - 0s 10ms/step - loss: 0.0217\n",
      "Epoch 51/100\n",
      "24/24 [==============================] - 0s 10ms/step - loss: 0.0199\n",
      "Epoch 52/100\n",
      "24/24 [==============================] - 0s 9ms/step - loss: 0.0256\n",
      "Epoch 53/100\n",
      "24/24 [==============================] - 0s 10ms/step - loss: 0.0263\n",
      "Epoch 54/100\n",
      "24/24 [==============================] - 0s 10ms/step - loss: 0.0188\n",
      "Epoch 55/100\n",
      "24/24 [==============================] - 0s 9ms/step - loss: 0.0221\n",
      "Epoch 56/100\n",
      "24/24 [==============================] - 0s 9ms/step - loss: 0.0204\n",
      "Epoch 57/100\n",
      "24/24 [==============================] - 0s 9ms/step - loss: 0.0225\n",
      "Epoch 58/100\n",
      "24/24 [==============================] - 0s 9ms/step - loss: 0.0258\n",
      "Epoch 59/100\n",
      "24/24 [==============================] - 0s 10ms/step - loss: 0.0189\n",
      "Epoch 60/100\n",
      "24/24 [==============================] - 0s 9ms/step - loss: 0.0182\n",
      "Epoch 61/100\n",
      "24/24 [==============================] - 0s 9ms/step - loss: 0.0244\n",
      "Epoch 62/100\n",
      "24/24 [==============================] - 0s 10ms/step - loss: 0.0193\n",
      "Epoch 63/100\n",
      "24/24 [==============================] - 0s 10ms/step - loss: 0.0190: 0s - loss: 0.019\n",
      "Epoch 64/100\n",
      "24/24 [==============================] - 0s 9ms/step - loss: 0.0190\n",
      "Epoch 65/100\n",
      "24/24 [==============================] - 0s 10ms/step - loss: 0.0238\n",
      "Epoch 66/100\n",
      "24/24 [==============================] - 0s 9ms/step - loss: 0.0226\n",
      "Epoch 67/100\n",
      "24/24 [==============================] - 0s 10ms/step - loss: 0.0259\n",
      "Epoch 68/100\n",
      "24/24 [==============================] - 0s 9ms/step - loss: 0.0235\n",
      "Epoch 69/100\n",
      "24/24 [==============================] - 0s 10ms/step - loss: 0.0232\n",
      "Epoch 70/100\n",
      "24/24 [==============================] - 0s 9ms/step - loss: 0.0191\n",
      "Epoch 71/100\n",
      "24/24 [==============================] - 0s 9ms/step - loss: 0.0239\n",
      "Epoch 72/100\n",
      "24/24 [==============================] - 0s 10ms/step - loss: 0.0173\n",
      "Epoch 73/100\n",
      "24/24 [==============================] - 0s 9ms/step - loss: 0.0212\n",
      "Epoch 74/100\n",
      "24/24 [==============================] - 0s 10ms/step - loss: 0.0216\n",
      "Epoch 75/100\n",
      "24/24 [==============================] - 0s 9ms/step - loss: 0.0204\n",
      "Epoch 76/100\n",
      "24/24 [==============================] - 0s 10ms/step - loss: 0.0224\n",
      "Epoch 77/100\n",
      "24/24 [==============================] - 0s 10ms/step - loss: 0.0244\n",
      "Epoch 78/100\n",
      "24/24 [==============================] - 0s 10ms/step - loss: 0.0228\n",
      "Epoch 79/100\n",
      "24/24 [==============================] - 0s 10ms/step - loss: 0.0197\n",
      "Epoch 80/100\n",
      "24/24 [==============================] - 0s 9ms/step - loss: 0.0212\n",
      "Epoch 81/100\n",
      "24/24 [==============================] - 0s 10ms/step - loss: 0.0207\n",
      "Epoch 82/100\n",
      "24/24 [==============================] - 0s 9ms/step - loss: 0.0226\n",
      "Epoch 83/100\n",
      "24/24 [==============================] - 0s 10ms/step - loss: 0.0196\n",
      "Epoch 84/100\n",
      "24/24 [==============================] - 0s 9ms/step - loss: 0.0218\n",
      "Epoch 85/100\n",
      "24/24 [==============================] - 0s 9ms/step - loss: 0.0218\n",
      "Epoch 86/100\n",
      "24/24 [==============================] - 0s 9ms/step - loss: 0.0190\n",
      "Epoch 87/100\n",
      "24/24 [==============================] - 0s 10ms/step - loss: 0.0164\n",
      "Epoch 88/100\n",
      "24/24 [==============================] - 0s 10ms/step - loss: 0.0202\n",
      "Epoch 89/100\n",
      "24/24 [==============================] - ETA: 0s - loss: 0.023 - 0s 10ms/step - loss: 0.0236\n",
      "Epoch 90/100\n",
      "24/24 [==============================] - 0s 10ms/step - loss: 0.0225\n",
      "Epoch 91/100\n",
      "24/24 [==============================] - 0s 10ms/step - loss: 0.0213\n",
      "Epoch 92/100\n",
      "24/24 [==============================] - 0s 10ms/step - loss: 0.0210\n",
      "Epoch 93/100\n",
      "24/24 [==============================] - ETA: 0s - loss: 0.015 - 0s 10ms/step - loss: 0.0156\n",
      "Epoch 94/100\n",
      "24/24 [==============================] - 0s 10ms/step - loss: 0.0218\n",
      "Epoch 95/100\n",
      "24/24 [==============================] - 0s 10ms/step - loss: 0.0182\n",
      "Epoch 96/100\n",
      "24/24 [==============================] - 0s 9ms/step - loss: 0.0245\n",
      "Epoch 97/100\n",
      "24/24 [==============================] - 0s 9ms/step - loss: 0.0191\n",
      "Epoch 98/100\n",
      "24/24 [==============================] - 0s 9ms/step - loss: 0.0201\n",
      "Epoch 99/100\n",
      "24/24 [==============================] - 0s 10ms/step - loss: 0.0224\n",
      "Epoch 100/100\n",
      "24/24 [==============================] - 0s 10ms/step - loss: 0.0220\n"
     ]
    }
   ],
   "source": [
    "model = recurrent_model(neurons=40)\n",
    "history = model.fit(x_train, y_train, epochs=100, batch_size=12)"
   ]
  },
  {
   "cell_type": "code",
   "execution_count": 27,
   "metadata": {},
   "outputs": [
    {
     "data": {
      "image/png": "[encoded data removed]",
      "text/plain": [
       "<Figure size 432x288 with 1 Axes>"
      ]
     },
     "metadata": {
      "needs_background": "light"
     },
     "output_type": "display_data"
    }
   ],
   "source": [
    "def hist_foll(metrics):\n",
    "    plt.plot(history.history[f'{metrics}'])\n",
    "    plt.grid = True\n",
    "    plt.title(f'Model {metrics}')\n",
    "    plt.ylabel(f'{metrics}')\n",
    "    plt.xlabel('epoch')\n",
    "    plt.legend(['train'], loc='upper right')\n",
    "    plt.show\n",
    "\n",
    "hist_foll('loss') "
   ]
  },
  {
   "cell_type": "code",
   "execution_count": 28,
   "metadata": {},
   "outputs": [],
   "source": [
    "def BestParams():\n",
    "    estimators = []\n",
    "#     estimators.append(('pf', PolynomialFeatures(interaction_only=True,include_bias=False)))\n",
    "    estimators.append(('nn', KerasRegressor(build_fn=recurrent_model, epochs=100, batch_size=32, neurons=20, verbose=0)))\n",
    "    \n",
    "    nn_pipe = Pipeline(estimators)\n",
    "    \n",
    "    print(nn_pipe.get_params().keys())\n",
    "    \n",
    "    nn_param_grid = {'nn__batch_size':[12,24,32],'nn__neurons':[20,30,40]} ##'nn__neurons':[50,100,200]\n",
    "    \n",
    "    gs_nn = GridSearchCV(nn_pipe, nn_param_grid,verbose=0, cv=3)\n",
    "    print('Ok')\n",
    "    gs_nn.fit(x_train, y_train)\n",
    "    \n",
    "    return gs_nn.best_params_"
   ]
  },
  {
   "cell_type": "code",
   "execution_count": 29,
   "metadata": {
    "code_folding": [],
    "scrolled": true
   },
   "outputs": [],
   "source": [
    "lookForOptimiz = False\n",
    "if lookForOptimiz : \n",
    "    best = BestParams()\n",
    "    print(best)"
   ]
  },
  {
   "cell_type": "code",
   "execution_count": 30,
   "metadata": {},
   "outputs": [],
   "source": [
    "pred = model.predict(x_train)\n",
    "pred = sc.inverse_transform(pred)"
   ]
  },
  {
   "cell_type": "code",
   "execution_count": 31,
   "metadata": {},
   "outputs": [
    {
     "name": "stdout",
     "output_type": "stream",
     "text": [
      "RMSE :  454.0315\n",
      "MAE :  334.9876\n"
     ]
    }
   ],
   "source": [
    "base_y = sc.inverse_transform(y_train)\n",
    "RMSE = np.sqrt(MSE(pred,base_y))\n",
    "print(\"RMSE : \",RMSE.round(4))\n",
    "\n",
    "score = MAE(pred,base_y)\n",
    "print(\"MAE : \", round(score,4))"
   ]
  }
 ],
 "metadata": {
  "hide_input": false,
  "kernelspec": {
   "display_name": "Python 3",
   "language": "python",
   "name": "python3"
  },
  "language_info": {
   "codemirror_mode": {
    "name": "ipython",
    "version": 3
   },
   "file_extension": ".py",
   "mimetype": "text/x-python",
   "name": "python",
   "nbconvert_exporter": "python",
   "pygments_lexer": "ipython3",
   "version": "3.7.0"
  },
  "nbTranslate": {
   "displayLangs": [
    "*"
   ],
   "hotkey": "alt-t",
   "langInMainMenu": true,
   "sourceLang": "en",
   "targetLang": "fr",
   "useGoogleTranslate": true
  },
  "varInspector": {
   "cols": {
    "lenName": 16,
    "lenType": 16,
    "lenVar": 40
   },
   "kernels_config": {
    "python": {
     "delete_cmd_postfix": "",
     "delete_cmd_prefix": "del ",
     "library": "var_list.py",
     "varRefreshCmd": "print(var_dic_list())"
    },
    "r": {
     "delete_cmd_postfix": ") ",
     "delete_cmd_prefix": "rm(",
     "library": "var_list.r",
     "varRefreshCmd": "cat(var_dic_list()) "
    }
   },
   "types_to_exclude": [
    "module",
    "function",
    "builtin_function_or_method",
    "instance",
    "_Feature"
   ],
   "window_display": false
  }
 },
 "nbformat": 4,
 "nbformat_minor": 4
}
