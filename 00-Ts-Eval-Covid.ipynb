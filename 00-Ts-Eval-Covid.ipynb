{
 "cells": [
  {
   "cell_type": "code",
   "execution_count": 1,
   "metadata": {},
   "outputs": [
    {
     "data": {
      "application/javascript": [
       "IPython.notebook.set_autosave_interval(0)"
      ]
     },
     "metadata": {},
     "output_type": "display_data"
    },
    {
     "name": "stdout",
     "output_type": "stream",
     "text": [
      "Autosave disabled\n",
      "Local Sec Env loaded\n"
     ]
    }
   ],
   "source": [
    "%autosave 0\n",
    "import requests\n",
    "import io\n",
    "import pandas as pd\n",
    "from datetime import date, timedelta\n",
    "\n",
    "from source_code.SqlCo import Sqldd\n",
    "from source_code.backpip import data_up_pip"
   ]
  },
  {
   "cell_type": "code",
   "execution_count": 2,
   "metadata": {},
   "outputs": [
    {
     "data": {
      "text/html": [
       "<div>\n",
       "<style scoped>\n",
       "    .dataframe tbody tr th:only-of-type {\n",
       "        vertical-align: middle;\n",
       "    }\n",
       "\n",
       "    .dataframe tbody tr th {\n",
       "        vertical-align: top;\n",
       "    }\n",
       "\n",
       "    .dataframe thead th {\n",
       "        text-align: right;\n",
       "    }\n",
       "</style>\n",
       "<table border=\"1\" class=\"dataframe\">\n",
       "  <thead>\n",
       "    <tr style=\"text-align: right;\">\n",
       "      <th></th>\n",
       "      <th>iso_code</th>\n",
       "      <th>continent</th>\n",
       "      <th>location</th>\n",
       "      <th>date</th>\n",
       "      <th>total_cases</th>\n",
       "      <th>new_cases</th>\n",
       "      <th>new_cases_smoothed</th>\n",
       "      <th>total_deaths</th>\n",
       "      <th>new_deaths</th>\n",
       "      <th>new_deaths_smoothed</th>\n",
       "      <th>...</th>\n",
       "      <th>gdp_per_capita</th>\n",
       "      <th>extreme_poverty</th>\n",
       "      <th>cardiovasc_death_rate</th>\n",
       "      <th>diabetes_prevalence</th>\n",
       "      <th>female_smokers</th>\n",
       "      <th>male_smokers</th>\n",
       "      <th>handwashing_facilities</th>\n",
       "      <th>hospital_beds_per_thousand</th>\n",
       "      <th>life_expectancy</th>\n",
       "      <th>human_development_index</th>\n",
       "    </tr>\n",
       "  </thead>\n",
       "  <tbody>\n",
       "    <tr>\n",
       "      <th>328</th>\n",
       "      <td>AFG</td>\n",
       "      <td>Asia</td>\n",
       "      <td>Afghanistan</td>\n",
       "      <td>2021-01-17</td>\n",
       "      <td>53984.0</td>\n",
       "      <td>46.0</td>\n",
       "      <td>70.714</td>\n",
       "      <td>2339.0</td>\n",
       "      <td>3.0</td>\n",
       "      <td>8.857</td>\n",
       "      <td>...</td>\n",
       "      <td>1803.987</td>\n",
       "      <td>NaN</td>\n",
       "      <td>597.029</td>\n",
       "      <td>9.59</td>\n",
       "      <td>NaN</td>\n",
       "      <td>NaN</td>\n",
       "      <td>37.746</td>\n",
       "      <td>0.50</td>\n",
       "      <td>64.83</td>\n",
       "      <td>0.498</td>\n",
       "    </tr>\n",
       "    <tr>\n",
       "      <th>643</th>\n",
       "      <td>ALB</td>\n",
       "      <td>Europe</td>\n",
       "      <td>Albania</td>\n",
       "      <td>2021-01-17</td>\n",
       "      <td>67690.0</td>\n",
       "      <td>474.0</td>\n",
       "      <td>585.000</td>\n",
       "      <td>1277.0</td>\n",
       "      <td>7.0</td>\n",
       "      <td>5.143</td>\n",
       "      <td>...</td>\n",
       "      <td>11803.431</td>\n",
       "      <td>1.1</td>\n",
       "      <td>304.195</td>\n",
       "      <td>10.08</td>\n",
       "      <td>7.1</td>\n",
       "      <td>51.2</td>\n",
       "      <td>NaN</td>\n",
       "      <td>2.89</td>\n",
       "      <td>78.57</td>\n",
       "      <td>0.785</td>\n",
       "    </tr>\n",
       "    <tr>\n",
       "      <th>971</th>\n",
       "      <td>DZA</td>\n",
       "      <td>Africa</td>\n",
       "      <td>Algeria</td>\n",
       "      <td>2021-01-17</td>\n",
       "      <td>103833.0</td>\n",
       "      <td>222.0</td>\n",
       "      <td>241.286</td>\n",
       "      <td>2836.0</td>\n",
       "      <td>5.0</td>\n",
       "      <td>4.143</td>\n",
       "      <td>...</td>\n",
       "      <td>13913.839</td>\n",
       "      <td>0.5</td>\n",
       "      <td>278.364</td>\n",
       "      <td>6.73</td>\n",
       "      <td>0.7</td>\n",
       "      <td>30.4</td>\n",
       "      <td>83.741</td>\n",
       "      <td>1.90</td>\n",
       "      <td>76.88</td>\n",
       "      <td>0.754</td>\n",
       "    </tr>\n",
       "  </tbody>\n",
       "</table>\n",
       "<p>3 rows × 55 columns</p>\n",
       "</div>"
      ],
      "text/plain": [
       "    iso_code continent     location        date  total_cases  new_cases  \\\n",
       "328      AFG      Asia  Afghanistan  2021-01-17      53984.0       46.0   \n",
       "643      ALB    Europe      Albania  2021-01-17      67690.0      474.0   \n",
       "971      DZA    Africa      Algeria  2021-01-17     103833.0      222.0   \n",
       "\n",
       "     new_cases_smoothed  total_deaths  new_deaths  new_deaths_smoothed  ...  \\\n",
       "328              70.714        2339.0         3.0                8.857  ...   \n",
       "643             585.000        1277.0         7.0                5.143  ...   \n",
       "971             241.286        2836.0         5.0                4.143  ...   \n",
       "\n",
       "     gdp_per_capita  extreme_poverty  cardiovasc_death_rate  \\\n",
       "328        1803.987              NaN                597.029   \n",
       "643       11803.431              1.1                304.195   \n",
       "971       13913.839              0.5                278.364   \n",
       "\n",
       "     diabetes_prevalence  female_smokers  male_smokers  \\\n",
       "328                 9.59             NaN           NaN   \n",
       "643                10.08             7.1          51.2   \n",
       "971                 6.73             0.7          30.4   \n",
       "\n",
       "     handwashing_facilities  hospital_beds_per_thousand  life_expectancy  \\\n",
       "328                  37.746                        0.50            64.83   \n",
       "643                     NaN                        2.89            78.57   \n",
       "971                  83.741                        1.90            76.88   \n",
       "\n",
       "     human_development_index  \n",
       "328                    0.498  \n",
       "643                    0.785  \n",
       "971                    0.754  \n",
       "\n",
       "[3 rows x 55 columns]"
      ]
     },
     "execution_count": 2,
     "metadata": {},
     "output_type": "execute_result"
    }
   ],
   "source": [
    "## scrap data from source\n",
    "url=\"https://covid.ourworldindata.org/data/owid-covid-data.csv\"\n",
    "s=requests.get(url).content\n",
    "c=pd.read_csv(io.StringIO(s.decode('utf-8')))\n",
    "\n",
    "## this dataset sometime no receive update, so i check the simple link \n",
    "verif_data = c[c['date'].isin([f\"{date.today() - timedelta(days=1)}\"])]\n",
    "\n",
    "if len(verif_data) == 0:\n",
    "    print(\"Not today, check other link\")\n",
    "    url=\"https://covid.ourworldindata.org/data/ecdc/full_data.csv\"\n",
    "    s=requests.get(url).content\n",
    "    c=pd.read_csv(io.StringIO(s.decode('utf-8')))\n",
    "    \n",
    "    verif_data = c[c['date'].isin([f\"{date.today() - timedelta(days=1)}\"])]\n",
    "    \n",
    "    ## If with the second link data have not yet be updated, raise Error & try again later\n",
    "    if len(verif_data) == 0:\n",
    "        raise ValueError('Data have not receive Update at this moment, Try later !')\n",
    "    \n",
    "verif_data.head(3)"
   ]
  },
  {
   "cell_type": "code",
   "execution_count": 3,
   "metadata": {},
   "outputs": [],
   "source": [
    "## dump the file for using it in other nb\n",
    "# c.to_csv(f\"data\\\\Base_Files\\\\full_data{date.today()}.csv\", index=False)"
   ]
  },
  {
   "cell_type": "code",
   "execution_count": 4,
   "metadata": {},
   "outputs": [],
   "source": [
    "## insert yesterday reporting to bdd\n",
    "# try:\n",
    "#     verif_data = verif_data.replace({np.nan: 'Null'})\n",
    "#     data_job = data_up_pip(verif_data) \n",
    "#     data_job.up_baseline()\n",
    "#     data_job.clean_leave()\n",
    "# except:\n",
    "#     print(\"BDD job Failed -- Normal if you not have acces to main code\")"
   ]
  },
  {
   "cell_type": "code",
   "execution_count": 6,
   "metadata": {},
   "outputs": [
    {
     "name": "stdout",
     "output_type": "stream",
     "text": [
      "Wall time: 1.81 s\n"
     ]
    }
   ],
   "source": [
    "%%time\n",
    "## Load data from days -1 to evaluate the performances of model\n",
    "yesterday_date = date.today() - timedelta(days=2)\n",
    "yesterday_date = str(yesterday_date)\n",
    "this_date = date.today() - timedelta(days=1)\n",
    "this_date = str(this_date)\n",
    "\n",
    "tip = Sqldd()\n",
    "cnx, cursor = tip.get_bdd_co()\n",
    "data_load = pd.read_sql(f\"SELECT * FROM cov_aipred WHERE date='{yesterday_date}';\", con=cnx) "
   ]
  },
  {
   "cell_type": "code",
   "execution_count": 9,
   "metadata": {},
   "outputs": [],
   "source": [
    "def Eval(c,data_load,country):\n",
    "    \"\"\" function for evaluate all models\n",
    "    params : \n",
    "        c = data scrap today\n",
    "        data_load = dataset from day -1\n",
    "        country = country concerned by eval\n",
    "    \"\"\"\n",
    "    df = c\n",
    "    df = df[df['location'].isin([f\"{country}\"])]\n",
    "    df = df[df['date'].isin([f\"{this_date}\"])]\n",
    "    sle = df.iloc[-1]\n",
    "    v0 = sle[\"date\"]\n",
    "    v1 = sle[\"total_cases\"]\n",
    "    v2 = sle[\"total_deaths\"]\n",
    "\n",
    "    res_tempo = data_load[data_load['country'].isin([f\"{country}\"])]\n",
    "    res_tempo= res_tempo.reset_index()\n",
    "    rez1 = res_tempo.at[0,\"total_cases_predict\"]\n",
    "    rez2 = res_tempo.at[0,\"total_deaths_predict\"]\n",
    "    \n",
    "    errorCase1 = rez1-v1\n",
    "    errorCase2 = rez2-v2\n",
    "    \n",
    "    ind = 0    \n",
    "    follow_df = pd.DataFrame()\n",
    "    follow_df.at[ind,\"date\"] = v0\n",
    "    follow_df.at[ind,\"country\"] = country\n",
    "    follow_df.at[ind,\"total_cases_predict\"] = rez1\n",
    "    follow_df.at[ind,\"total_cases_real\"] = v1\n",
    "    follow_df.at[ind,\"total_deaths_predict\"] = rez2\n",
    "    follow_df.at[ind,\"total_deaths_real\"] = v2\n",
    "    follow_df.at[ind,\"error_abs_cases\"] = errorCase1\n",
    "    follow_df.at[ind,\"error_abs_deaths\"] = errorCase2\n",
    "    \n",
    "    return follow_df"
   ]
  },
  {
   "cell_type": "code",
   "execution_count": 10,
   "metadata": {
    "scrolled": false
   },
   "outputs": [],
   "source": [
    "## call eval function and store dataframe on var's\n",
    "follow_df1 = Eval(c,data_load,\"France\")\n",
    "follow_df2 = Eval(c,data_load,\"China\")\n",
    "follow_df3 = Eval(c,data_load,\"Italy\")\n",
    "# follow_df4 = Eval(c,data_load,\"Belgium\")\n",
    "follow_df5 = Eval(c,data_load,\"United States\")\n",
    "follow_df6 = Eval(c,data_load,\"World\")\n",
    "follow_df7 = Eval(c,data_load,\"United Kingdom\")\n",
    "follow_df8 = Eval(c,data_load,\"Germany\")\n",
    "follow_df9 = Eval(c,data_load,\"Iran\")\n",
    "follow_df10 = Eval(c,data_load,\"Turkey\")\n",
    "follow_df11 = Eval(c,data_load,\"Brazil\")"
   ]
  },
  {
   "cell_type": "code",
   "execution_count": 11,
   "metadata": {},
   "outputs": [
    {
     "data": {
      "text/html": [
       "<div>\n",
       "<style scoped>\n",
       "    .dataframe tbody tr th:only-of-type {\n",
       "        vertical-align: middle;\n",
       "    }\n",
       "\n",
       "    .dataframe tbody tr th {\n",
       "        vertical-align: top;\n",
       "    }\n",
       "\n",
       "    .dataframe thead th {\n",
       "        text-align: right;\n",
       "    }\n",
       "</style>\n",
       "<table border=\"1\" class=\"dataframe\">\n",
       "  <thead>\n",
       "    <tr style=\"text-align: right;\">\n",
       "      <th></th>\n",
       "      <th>date</th>\n",
       "      <th>country</th>\n",
       "      <th>error_abs_cases</th>\n",
       "      <th>error_abs_deaths</th>\n",
       "    </tr>\n",
       "  </thead>\n",
       "  <tbody>\n",
       "    <tr>\n",
       "      <th>0</th>\n",
       "      <td>2021-01-17</td>\n",
       "      <td>France</td>\n",
       "      <td>-8741.0</td>\n",
       "      <td>218.0</td>\n",
       "    </tr>\n",
       "    <tr>\n",
       "      <th>0</th>\n",
       "      <td>2021-01-17</td>\n",
       "      <td>China</td>\n",
       "      <td>-76.0</td>\n",
       "      <td>2.0</td>\n",
       "    </tr>\n",
       "    <tr>\n",
       "      <th>0</th>\n",
       "      <td>2021-01-17</td>\n",
       "      <td>Italy</td>\n",
       "      <td>8493.0</td>\n",
       "      <td>87.0</td>\n",
       "    </tr>\n",
       "    <tr>\n",
       "      <th>0</th>\n",
       "      <td>2021-01-17</td>\n",
       "      <td>United States</td>\n",
       "      <td>178932.0</td>\n",
       "      <td>-151.0</td>\n",
       "    </tr>\n",
       "    <tr>\n",
       "      <th>0</th>\n",
       "      <td>2021-01-17</td>\n",
       "      <td>World</td>\n",
       "      <td>573471.0</td>\n",
       "      <td>1115.0</td>\n",
       "    </tr>\n",
       "    <tr>\n",
       "      <th>0</th>\n",
       "      <td>2021-01-17</td>\n",
       "      <td>United Kingdom</td>\n",
       "      <td>26460.0</td>\n",
       "      <td>308.0</td>\n",
       "    </tr>\n",
       "    <tr>\n",
       "      <th>0</th>\n",
       "      <td>2021-01-17</td>\n",
       "      <td>Germany</td>\n",
       "      <td>15021.0</td>\n",
       "      <td>222.0</td>\n",
       "    </tr>\n",
       "    <tr>\n",
       "      <th>0</th>\n",
       "      <td>2021-01-17</td>\n",
       "      <td>Iran</td>\n",
       "      <td>8299.0</td>\n",
       "      <td>470.0</td>\n",
       "    </tr>\n",
       "    <tr>\n",
       "      <th>0</th>\n",
       "      <td>2021-01-17</td>\n",
       "      <td>Turkey</td>\n",
       "      <td>19289.0</td>\n",
       "      <td>89.0</td>\n",
       "    </tr>\n",
       "    <tr>\n",
       "      <th>0</th>\n",
       "      <td>2021-01-17</td>\n",
       "      <td>Brazil</td>\n",
       "      <td>1521.0</td>\n",
       "      <td>164.0</td>\n",
       "    </tr>\n",
       "  </tbody>\n",
       "</table>\n",
       "</div>"
      ],
      "text/plain": [
       "         date         country  error_abs_cases  error_abs_deaths\n",
       "0  2021-01-17          France          -8741.0             218.0\n",
       "0  2021-01-17           China            -76.0               2.0\n",
       "0  2021-01-17           Italy           8493.0              87.0\n",
       "0  2021-01-17   United States         178932.0            -151.0\n",
       "0  2021-01-17           World         573471.0            1115.0\n",
       "0  2021-01-17  United Kingdom          26460.0             308.0\n",
       "0  2021-01-17         Germany          15021.0             222.0\n",
       "0  2021-01-17            Iran           8299.0             470.0\n",
       "0  2021-01-17          Turkey          19289.0              89.0\n",
       "0  2021-01-17          Brazil           1521.0             164.0"
      ]
     },
     "execution_count": 11,
     "metadata": {},
     "output_type": "execute_result"
    }
   ],
   "source": [
    "## concatenate all df in 1\n",
    "frames = [follow_df1, follow_df2, follow_df3,\n",
    "          follow_df5, follow_df6, follow_df7, follow_df8,\n",
    "          follow_df9, follow_df10, follow_df11]\n",
    "rapport = pd.concat(frames)\n",
    "rapport"
   ]
  },
  {
   "cell_type": "code",
   "execution_count": 12,
   "metadata": {},
   "outputs": [],
   "source": [
    "## dump dataset for use it in nb 03, in 03 nb he will be add to full_rapport then delete \n",
    "# rapport.to_csv(f\"data\\\\Rapport\\\\rap{date.today()}.csv\")"
   ]
  },
  {
   "cell_type": "code",
   "execution_count": 9,
   "metadata": {
    "scrolled": true
   },
   "outputs": [
    {
     "name": "stdout",
     "output_type": "stream",
     "text": [
      " Insert Rapport Done !! \n"
     ]
    }
   ],
   "source": [
    "# # insert yesterday reporting to bdd\n",
    "# try:\n",
    "#     data_job = data_up_pip(rapport) \n",
    "#     data_job.up_rapp()\n",
    "#     data_job.clean_leave()\n",
    "# except:\n",
    "#     print(\"BDD job Failed -- Normal if you not have acces to main code\")"
   ]
  },
  {
   "cell_type": "code",
   "execution_count": null,
   "metadata": {},
   "outputs": [],
   "source": []
  }
 ],
 "metadata": {
  "hide_input": false,
  "kernelspec": {
   "display_name": "Python 3",
   "language": "python",
   "name": "python3"
  },
  "nbTranslate": {
   "displayLangs": [
    "*"
   ],
   "hotkey": "alt-t",
   "langInMainMenu": true,
   "sourceLang": "en",
   "targetLang": "fr",
   "useGoogleTranslate": true
  },
  "varInspector": {
   "cols": {
    "lenName": 16,
    "lenType": 16,
    "lenVar": 40
   },
   "kernels_config": {
    "python": {
     "delete_cmd_postfix": "",
     "delete_cmd_prefix": "del ",
     "library": "var_list.py",
     "varRefreshCmd": "print(var_dic_list())"
    },
    "r": {
     "delete_cmd_postfix": ") ",
     "delete_cmd_prefix": "rm(",
     "library": "var_list.r",
     "varRefreshCmd": "cat(var_dic_list()) "
    }
   },
   "types_to_exclude": [
    "module",
    "function",
    "builtin_function_or_method",
    "instance",
    "_Feature"
   ],
   "window_display": false
  }
 },
 "nbformat": 4,
 "nbformat_minor": 4
}
